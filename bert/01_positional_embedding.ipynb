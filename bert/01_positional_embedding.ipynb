{
 "cells": [
  {
   "cell_type": "markdown",
   "metadata": {},
   "source": [
    "# Positional Embedding"
   ]
  },
  {
   "cell_type": "code",
   "execution_count": 2,
   "metadata": {},
   "outputs": [],
   "source": [
    "import torch.nn as nn\n",
    "import torch\n",
    "import math"
   ]
  },
  {
   "cell_type": "markdown",
   "metadata": {},
   "source": [
    "embed_size = 768\n",
    "n_layer = 12\n",
    "n_head = 12\n",
    "vocab_size = >30 k"
   ]
  },
  {
   "cell_type": "code",
   "execution_count": 1,
   "metadata": {},
   "outputs": [],
   "source": [
    "\n",
    "\n",
    "\n",
    "class PositionalEmbedding(nn.Module):\n",
    "\n",
    "    def __init__(self, d_model, max_len=512):\n",
    "        super().__init__()\n",
    "\n",
    "        # Compute the positional encodings once in log space.\n",
    "        pe = torch.zeros(max_len, d_model).float() # d_model = embedding_size , max_len = 512 : length of sequence\n",
    "        pe.require_grad = False\n",
    "\n",
    "        position = torch.arange(0, max_len).float().unsqueeze(1)\n",
    "        div_term = (torch.arange(0, d_model, 2).float() * -(math.log(10000.0) / d_model)).exp()\n",
    "\n",
    "        pe[:, 0::2] = torch.sin(position * div_term)\n",
    "        pe[:, 1::2] = torch.cos(position * div_term)\n",
    "\n",
    "        pe = pe.unsqueeze(0)\n",
    "        self.register_buffer('pe', pe)\n",
    "\n",
    "    def forward(self, x):\n",
    "        return self.pe[:, :x.size(1)]\n"
   ]
  },
  {
   "cell_type": "code",
   "execution_count": 50,
   "metadata": {},
   "outputs": [
    {
     "name": "stdout",
     "output_type": "stream",
     "text": [
      "pe_shape : torch.Size([512, 512])\n"
     ]
    }
   ],
   "source": [
    "# tensor board \n",
    "from torch.utils.tensorboard import SummaryWriter\n",
    "\n",
    "writer = SummaryWriter(log_dir='./bert/')\n",
    "# Compute the positional encodings once in log space.\n",
    "\n",
    "max_len = 512 #  length of the sequence\n",
    "d_model = 512 # embedding length\n",
    "pe = torch.zeros(max_len, d_model).float()\n",
    "print(f'pe_shape : {pe.shape}')\n",
    "pe.require_grad = False\n",
    "\n",
    "position = torch.arange(0, max_len).float().unsqueeze(1)\n",
    "div_term = (torch.arange(0, d_model, 2).float() * -(math.log(10000.0) / d_model)).exp()\n",
    "\n",
    "pe[:, 0::2] = torch.sin(position * div_term)\n",
    "pe[:, 1::2] = torch.cos(position * div_term)\n",
    "\n",
    "pe = pe.unsqueeze(0)\n",
    "\n",
    "count  = 0\n",
    "for i in range(max_len):\n",
    "    d = dict()\n",
    "\n",
    "        \n",
    "    d[\"pos0\"] = pe[0,0,i]\n",
    "    writer.add_scalars(main_tag='positional_embeding',\n",
    "    tag_scalar_dict= d\n",
    "        ,global_step=i\n",
    "        ) \n",
    "\n",
    "for i in range(max_len):\n",
    "    d = dict()\n",
    "\n",
    "        \n",
    "    d[\"pos1\"] = pe[0,1,i]\n",
    "    writer.add_scalars(main_tag='positional_embeding',\n",
    "    tag_scalar_dict= d\n",
    "        ,global_step=i\n",
    "        )\n",
    "for i in range(max_len):\n",
    "    d = dict()\n",
    "\n",
    "        \n",
    "    d[\"pos2\"] = pe[0,2,i]\n",
    "    writer.add_scalars(main_tag='positional_embeding',\n",
    "    tag_scalar_dict= d\n",
    "        ,global_step=i\n",
    "        )\n",
    "\n",
    "for i in range(max_len):\n",
    "    d = dict()\n",
    "\n",
    "        \n",
    "    d[\"pos3\"] = pe[0,3,i]\n",
    "    writer.add_scalars(main_tag='positional_embeding',\n",
    "    tag_scalar_dict= d\n",
    "        ,global_step=i\n",
    "        ) \n",
    "# writer.add_embedding(mat=pe[0],tag='embedding')\n",
    "# pe,pe.shape"
   ]
  },
  {
   "cell_type": "markdown",
   "metadata": {},
   "source": [
    "position embedding my implementation\n",
    "\n",
    "![position_embedding](./assets/position_embedding.png)"
   ]
  },
  {
   "cell_type": "code",
   "execution_count": 79,
   "metadata": {},
   "outputs": [
    {
     "name": "stdout",
     "output_type": "stream",
     "text": [
      "pe_shape : torch.Size([20, 6])\n",
      "tensor([0., 2., 4.])\n"
     ]
    }
   ],
   "source": [
    "max_token_length = 20\n",
    "n_dim= 6\n",
    "pos_len = max_token_length\n",
    "dim_len = n_dim\n",
    "\n",
    "# required shape (1,20,6)\n",
    "\n",
    "max_len = pos_len #  length of the sequence\n",
    "d_model = dim_len # embedding length\n",
    "pe = torch.zeros(max_len, d_model).float()\n",
    "print(f'pe_shape : {pe.shape}')\n",
    "pe.require_grad = False\n",
    "\n",
    "position = torch.arange(start=0,end=max_len,step=1,dtype=torch.float)\n",
    "\n",
    "# position =  position.unsqueeze(dim=0) # adds dimentions at the [[]]\n",
    "\n",
    "position =  position.unsqueeze(dim=1) # adds dimentions at the []\n",
    "# position =  position.unsqueeze(dim=2) # adds dimentions at the [[]]\n",
    "\n",
    "term = torch.arange(0, d_model, 2).float()\n",
    "\n",
    "term_1000 = torch.ones()\n",
    "div_term = torch.exp()\n",
    "div_term = (torch.arange(0, d_model, 2).float() * -(math.log(10000.0) / d_model)).exp()\n",
    "\n",
    "\n",
    "print(term)\n",
    "\n",
    "\n",
    "\n"
   ]
  },
  {
   "cell_type": "code",
   "execution_count": 3,
   "metadata": {},
   "outputs": [],
   "source": [
    "import numpy as np\n",
    "class PositionalEncoding(nn.Module):\n",
    "\n",
    "    def __init__(self, d_hid, n_position=200):\n",
    "        super(PositionalEncoding, self).__init__()\n",
    "\n",
    "        # Not a parameter\n",
    "        self.register_buffer('pos_table', self._get_sinusoid_encoding_table(n_position, d_hid))\n",
    "\n",
    "    def _get_sinusoid_encoding_table(self, n_position, d_hid):\n",
    "        ''' Sinusoid position encoding table '''\n",
    "        # TODO: make it with torch instead of numpy\n",
    "\n",
    "        def get_position_angle_vec(position):\n",
    "            return [position / np.power(10000, 2 * (hid_j // 2) / d_hid) for hid_j in range(d_hid)]\n",
    "\n",
    "        sinusoid_table = np.array([get_position_angle_vec(pos_i) for pos_i in range(n_position)])\n",
    "        sinusoid_table[:, 0::2] = np.sin(sinusoid_table[:, 0::2])  # dim 2i\n",
    "        sinusoid_table[:, 1::2] = np.cos(sinusoid_table[:, 1::2])  # dim 2i+1\n",
    "\n",
    "        return torch.FloatTensor(sinusoid_table).unsqueeze(0)\n",
    "\n",
    "    def forward(self, x):\n",
    "        return x + self.pos_table[:, :x.size(1)].clone().detach()"
   ]
  },
  {
   "cell_type": "code",
   "execution_count": 9,
   "metadata": {},
   "outputs": [
    {
     "data": {
      "text/plain": [
       "torch.Size([10, 200, 768])"
      ]
     },
     "execution_count": 9,
     "metadata": {},
     "output_type": "execute_result"
    }
   ],
   "source": [
    "model = PositionalEncoding(d_hid=768)\n",
    "\n",
    "input = torch.rand((10,200,768),dtype=torch.float)\n",
    "\n",
    "input.shape\n",
    "\n",
    "output = model(input)\n",
    "output.shape"
   ]
  },
  {
   "cell_type": "code",
   "execution_count": null,
   "metadata": {},
   "outputs": [],
   "source": []
  }
 ],
 "metadata": {
  "interpreter": {
   "hash": "610c9d3786a5bcd122c38aa183fd980592c5db79f4cee84c2a544f8f000107e2"
  },
  "kernelspec": {
   "display_name": "Python 3.9.9 64-bit ('venv': venv)",
   "language": "python",
   "name": "python3"
  },
  "language_info": {
   "codemirror_mode": {
    "name": "ipython",
    "version": 3
   },
   "file_extension": ".py",
   "mimetype": "text/x-python",
   "name": "python",
   "nbconvert_exporter": "python",
   "pygments_lexer": "ipython3",
   "version": "3.9.9"
  },
  "orig_nbformat": 4
 },
 "nbformat": 4,
 "nbformat_minor": 2
}
