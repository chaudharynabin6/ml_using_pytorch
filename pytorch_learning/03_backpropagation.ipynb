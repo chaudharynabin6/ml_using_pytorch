{
 "cells": [
  {
   "cell_type": "markdown",
   "metadata": {},
   "source": [
    "# Backpropagation\n",
    "\n",
    "## chain rule is all you need to know\n",
    "\n",
    "![chain_rule](assets\\chain_rule.png)\n",
    "\n",
    "\n",
    "--------------------------------------------------------\n",
    "## computational graph is useful in calculation of jacobian matrix\n",
    "\n",
    "![computational_graph](assets\\computational_graph.png)\n",
    "\n",
    "-------------------------------------------------------\n",
    "## Steps in the neural networks\n",
    "\n",
    "1. forward pass : compute loss with the help of loss function\n",
    "2. compute local gradient in the form of jacobian matrix\n",
    "3. backward pass : compute d(loss)/d(weight_to_update) using jacobian matrix or chain rule\n",
    "\n",
    "all these steps are done to minimize the loss\n",
    "\n",
    "![neural_network](assets/neural_network.png)\n",
    "\n",
    "## 1. forward pass : Calculate loss\n",
    "\n",
    "apply input and calculate the loss\n",
    "\n",
    "![forward_pass](assets/forward_pass.png)\n",
    "\n",
    "## 2. compute local gradients \n",
    "\n",
    "![local_gradient](assets\\local_gradient.png)\n",
    "\n",
    "## 3. Backward Pass \n",
    "calculate d(loss)/d(weight_to_update)\n",
    "\n",
    "![backward_pass](assets\\backward_pass.png)\n",
    "\n",
    "\n",
    "## whole process\n",
    "\n",
    "![whole_process](assets\\whole_process.png)\n"
   ]
  },
  {
   "cell_type": "code",
   "execution_count": 8,
   "metadata": {},
   "outputs": [
    {
     "name": "stdout",
     "output_type": "stream",
     "text": [
      "tensor(-2.)\n",
      "tensor(1., requires_grad=True)\n"
     ]
    }
   ],
   "source": [
    "import torch\n",
    "\n",
    "x = torch.tensor(1)\n",
    "y = torch.tensor(2) # actual output\n",
    "w = torch.tensor(1,dtype=torch.float32, requires_grad=True)\n",
    "# ---------------------- local gradient are automatically calculated -----------------------\n",
    "# computed output\n",
    "y_hat = w*x\n",
    "\n",
    "# compute loss\n",
    "loss = (y_hat - y)**2\n",
    "# ----------------------------------------------------------------------------------\n",
    "# backward pass\n",
    "\n",
    "# calculatation of d(loss)/d(w) \n",
    "loss.backward()\n",
    "\n",
    "grad = w.grad # d(loss)/d(w)\n",
    "\n",
    "print(w.grad) \n",
    "print(w)\n",
    "\n",
    "# upto now there is no update of weight"
   ]
  },
  {
   "cell_type": "markdown",
   "metadata": {},
   "source": [
    "# upto now there is no update of weight"
   ]
  }
 ],
 "metadata": {
  "interpreter": {
   "hash": "610c9d3786a5bcd122c38aa183fd980592c5db79f4cee84c2a544f8f000107e2"
  },
  "kernelspec": {
   "display_name": "Python 3.9.9 64-bit ('venv': venv)",
   "language": "python",
   "name": "python3"
  },
  "language_info": {
   "codemirror_mode": {
    "name": "ipython",
    "version": 3
   },
   "file_extension": ".py",
   "mimetype": "text/x-python",
   "name": "python",
   "nbconvert_exporter": "python",
   "pygments_lexer": "ipython3",
   "version": "3.9.9"
  },
  "orig_nbformat": 4
 },
 "nbformat": 4,
 "nbformat_minor": 2
}
