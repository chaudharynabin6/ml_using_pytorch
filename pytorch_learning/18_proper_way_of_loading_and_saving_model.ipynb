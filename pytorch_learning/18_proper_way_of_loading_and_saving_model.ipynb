{
 "cells": [
  {
   "cell_type": "markdown",
   "metadata": {},
   "source": [
    "# saving and loading model"
   ]
  },
  {
   "cell_type": "code",
   "execution_count": 2,
   "metadata": {},
   "outputs": [],
   "source": [
    "import torch \n",
    "import torch.nn as nn\n",
    "import torch.nn.functional as F\n"
   ]
  },
  {
   "cell_type": "markdown",
   "metadata": {},
   "source": [
    "# Defining Model"
   ]
  },
  {
   "cell_type": "code",
   "execution_count": 5,
   "metadata": {},
   "outputs": [
    {
     "name": "stdout",
     "output_type": "stream",
     "text": [
      "NeuralNet(\n",
      "  (linear): Linear(in_features=5, out_features=2, bias=True)\n",
      ")\n"
     ]
    }
   ],
   "source": [
    "class NeuralNet(nn.Module):\n",
    "    \n",
    "    def __init__(self,input_features = 1,output_features = 1):\n",
    "        super(NeuralNet,self).__init__()\n",
    "\n",
    "        self.linear = nn.Linear(in_features=input_features,out_features=output_features)\n",
    "\n",
    "    \n",
    "    def forward(self,batch_samples):\n",
    "\n",
    "        out = batch_samples\n",
    "\n",
    "        out = F.relu(self.linear(out))\n",
    "\n",
    "        return out\n",
    "\n",
    "\n",
    "model = NeuralNet(input_features=5,output_features=2)\n",
    "\n",
    "print(model)"
   ]
  },
  {
   "cell_type": "markdown",
   "metadata": {},
   "source": [
    "# Saving the model"
   ]
  },
  {
   "cell_type": "code",
   "execution_count": 17,
   "metadata": {},
   "outputs": [],
   "source": [
    "model_root = './models/'"
   ]
  },
  {
   "cell_type": "markdown",
   "metadata": {},
   "source": [
    "## unsafe way"
   ]
  },
  {
   "cell_type": "code",
   "execution_count": 18,
   "metadata": {},
   "outputs": [
    {
     "name": "stdout",
     "output_type": "stream",
     "text": [
      "model_parameters : OrderedDict([('linear.weight', tensor([[ 0.0931, -0.1068,  0.3076, -0.0825,  0.0746, -0.1125, -0.0757,  0.1119,\n",
      "         -0.0118, -0.2110],\n",
      "        [ 0.2827, -0.1937,  0.0488, -0.0776, -0.1941, -0.0647, -0.2309, -0.1114,\n",
      "          0.2732,  0.0263],\n",
      "        [-0.1800,  0.1856, -0.1846, -0.0341,  0.0992,  0.0689, -0.1066,  0.1440,\n",
      "          0.2201,  0.2629],\n",
      "        [ 0.2316,  0.0529,  0.0926,  0.2205,  0.3036, -0.0833, -0.0565, -0.1357,\n",
      "         -0.0950,  0.0803],\n",
      "        [-0.0605,  0.1747, -0.1464,  0.1365,  0.0972,  0.2417,  0.1859, -0.3080,\n",
      "         -0.2181, -0.1545]])), ('linear.bias', tensor([ 0.2100, -0.0476,  0.2349,  0.1825, -0.1644]))])\n"
     ]
    }
   ],
   "source": [
    "# saving model\n",
    "torch.save(obj=model,f=model_root + \"unsafe_model.pth\")\n",
    "\n",
    "print(f\"model_parameters : {model.state_dict()}\")"
   ]
  },
  {
   "cell_type": "code",
   "execution_count": 19,
   "metadata": {},
   "outputs": [
    {
     "name": "stdout",
     "output_type": "stream",
     "text": [
      " loaded model parameters : OrderedDict([('linear.weight', tensor([[ 0.0931, -0.1068,  0.3076, -0.0825,  0.0746, -0.1125, -0.0757,  0.1119,\n",
      "         -0.0118, -0.2110],\n",
      "        [ 0.2827, -0.1937,  0.0488, -0.0776, -0.1941, -0.0647, -0.2309, -0.1114,\n",
      "          0.2732,  0.0263],\n",
      "        [-0.1800,  0.1856, -0.1846, -0.0341,  0.0992,  0.0689, -0.1066,  0.1440,\n",
      "          0.2201,  0.2629],\n",
      "        [ 0.2316,  0.0529,  0.0926,  0.2205,  0.3036, -0.0833, -0.0565, -0.1357,\n",
      "         -0.0950,  0.0803],\n",
      "        [-0.0605,  0.1747, -0.1464,  0.1365,  0.0972,  0.2417,  0.1859, -0.3080,\n",
      "         -0.2181, -0.1545]])), ('linear.bias', tensor([ 0.2100, -0.0476,  0.2349,  0.1825, -0.1644]))])\n"
     ]
    },
    {
     "data": {
      "text/plain": [
       "NeuralNet(\n",
       "  (linear): Linear(in_features=10, out_features=5, bias=True)\n",
       ")"
      ]
     },
     "execution_count": 19,
     "metadata": {},
     "output_type": "execute_result"
    }
   ],
   "source": [
    "# laoding model\n",
    "\n",
    "loaded_model = torch.load( model_root + 'unsafe_model.pth')\n",
    "\n",
    "print(f\" loaded model parameters : {loaded_model.state_dict()}\")\n",
    "\n",
    "loaded_model.train() # for training mode\n",
    "\n",
    "loaded_model.eval() # for testing mode"
   ]
  },
  {
   "cell_type": "markdown",
   "metadata": {},
   "source": [
    "# safeway"
   ]
  },
  {
   "cell_type": "code",
   "execution_count": 16,
   "metadata": {},
   "outputs": [
    {
     "name": "stdout",
     "output_type": "stream",
     "text": [
      "model sate : OrderedDict([('linear.weight', tensor([[ 0.0931, -0.1068,  0.3076, -0.0825,  0.0746, -0.1125, -0.0757,  0.1119,\n",
      "         -0.0118, -0.2110],\n",
      "        [ 0.2827, -0.1937,  0.0488, -0.0776, -0.1941, -0.0647, -0.2309, -0.1114,\n",
      "          0.2732,  0.0263],\n",
      "        [-0.1800,  0.1856, -0.1846, -0.0341,  0.0992,  0.0689, -0.1066,  0.1440,\n",
      "          0.2201,  0.2629],\n",
      "        [ 0.2316,  0.0529,  0.0926,  0.2205,  0.3036, -0.0833, -0.0565, -0.1357,\n",
      "         -0.0950,  0.0803],\n",
      "        [-0.0605,  0.1747, -0.1464,  0.1365,  0.0972,  0.2417,  0.1859, -0.3080,\n",
      "         -0.2181, -0.1545]])), ('linear.bias', tensor([ 0.2100, -0.0476,  0.2349,  0.1825, -0.1644]))])\n"
     ]
    }
   ],
   "source": [
    "model = NeuralNet(input_features=10,output_features=5)\n",
    "\n",
    "print(f\"model sate : {model.state_dict()}\")"
   ]
  },
  {
   "cell_type": "code",
   "execution_count": 21,
   "metadata": {},
   "outputs": [],
   "source": [
    "#  saving model \n",
    "\n",
    "# here only the state dict ie. weight and bias ( trainable_parameters are saved)\n",
    "torch.save(obj= model.state_dict(),f=model_root + 'safe_model.pth')"
   ]
  },
  {
   "cell_type": "code",
   "execution_count": 29,
   "metadata": {},
   "outputs": [
    {
     "name": "stdout",
     "output_type": "stream",
     "text": [
      "loaded model parameters : OrderedDict([('linear.weight', tensor([[ 0.0931, -0.1068,  0.3076, -0.0825,  0.0746, -0.1125, -0.0757,  0.1119,\n",
      "         -0.0118, -0.2110],\n",
      "        [ 0.2827, -0.1937,  0.0488, -0.0776, -0.1941, -0.0647, -0.2309, -0.1114,\n",
      "          0.2732,  0.0263],\n",
      "        [-0.1800,  0.1856, -0.1846, -0.0341,  0.0992,  0.0689, -0.1066,  0.1440,\n",
      "          0.2201,  0.2629],\n",
      "        [ 0.2316,  0.0529,  0.0926,  0.2205,  0.3036, -0.0833, -0.0565, -0.1357,\n",
      "         -0.0950,  0.0803],\n",
      "        [-0.0605,  0.1747, -0.1464,  0.1365,  0.0972,  0.2417,  0.1859, -0.3080,\n",
      "         -0.2181, -0.1545]])), ('linear.bias', tensor([ 0.2100, -0.0476,  0.2349,  0.1825, -0.1644]))])\n"
     ]
    }
   ],
   "source": [
    "# loading model\n",
    "\n",
    "# must create same model with safe layers and  configuration\n",
    "\n",
    "loaded_model  = NeuralNet(input_features=10,output_features=5)\n",
    "\n",
    "# get the state dicts that is saved\n",
    "\n",
    "state_dicts = torch.load(f=model_root+\"safe_model.pth\")\n",
    "\n",
    "loaded_model.load_state_dict(state_dicts)\n",
    "\n",
    "print(f\"loaded model parameters : {loaded_model.state_dict()}\")"
   ]
  },
  {
   "cell_type": "markdown",
   "metadata": {},
   "source": [
    "# saving the checkpoint\n",
    "\n"
   ]
  },
  {
   "cell_type": "code",
   "execution_count": 33,
   "metadata": {},
   "outputs": [
    {
     "name": "stdout",
     "output_type": "stream",
     "text": [
      "checkpoint:{'epoch_completed': 4, 'model': OrderedDict([('linear.weight', tensor([[ 0.2564,  0.2286,  0.0265,  0.2707, -0.1124, -0.2978, -0.1214, -0.2804,\n",
      "         -0.0258,  0.1516],\n",
      "        [ 0.0546,  0.1009,  0.3028,  0.2331, -0.3006, -0.2196,  0.2558,  0.1281,\n",
      "          0.1446,  0.1916],\n",
      "        [-0.1173,  0.2627, -0.3119, -0.1701,  0.0594, -0.2753, -0.2746, -0.0142,\n",
      "         -0.1768,  0.1906]])), ('linear.bias', tensor([-0.2229,  0.0689, -0.3020]))]), 'optimizer': {'state': {}, 'param_groups': [{'lr': 0.001, 'momentum': 0.02, 'dampening': 0, 'weight_decay': 0, 'nesterov': False, 'params': [0, 1]}]}}\n",
      "model : NeuralNet(\n",
      "  (linear): Linear(in_features=10, out_features=3, bias=True)\n",
      ")\n",
      "optimizer: SGD (\n",
      "Parameter Group 0\n",
      "    dampening: 0\n",
      "    lr: 0.001\n",
      "    momentum: 0.02\n",
      "    nesterov: False\n",
      "    weight_decay: 0\n",
      ")\n"
     ]
    }
   ],
   "source": [
    "model = NeuralNet(input_features=10,output_features=3)\n",
    "epochs = 10\n",
    "\n",
    "optimizer = torch.optim.SGD(params=model.parameters(),lr= .001,momentum=.02)\n",
    "for epoch in range(10):\n",
    "    \n",
    "    if epoch == 4:\n",
    "\n",
    "        check_point = {\n",
    "            'epoch_completed': epoch,\n",
    "            'model': model.state_dict(),\n",
    "            'optimizer': optimizer.state_dict()\n",
    "        }\n",
    "\n",
    "        torch.save(obj=check_point,f=model_root+'check_point.pth')\n",
    "        print(f\"checkpoint:{check_point}\")\n",
    "\n",
    "print(f\"model : {model}\")\n",
    "print(f\"optimizer: {optimizer}\")\n",
    "\n"
   ]
  },
  {
   "cell_type": "code",
   "execution_count": 34,
   "metadata": {},
   "outputs": [
    {
     "name": "stdout",
     "output_type": "stream",
     "text": [
      "{'epoch_completed': 4, 'model': OrderedDict([('linear.weight', tensor([[ 0.2564,  0.2286,  0.0265,  0.2707, -0.1124, -0.2978, -0.1214, -0.2804,\n",
      "         -0.0258,  0.1516],\n",
      "        [ 0.0546,  0.1009,  0.3028,  0.2331, -0.3006, -0.2196,  0.2558,  0.1281,\n",
      "          0.1446,  0.1916],\n",
      "        [-0.1173,  0.2627, -0.3119, -0.1701,  0.0594, -0.2753, -0.2746, -0.0142,\n",
      "         -0.1768,  0.1906]])), ('linear.bias', tensor([-0.2229,  0.0689, -0.3020]))]), 'optimizer': {'state': {}, 'param_groups': [{'lr': 0.001, 'momentum': 0.02, 'dampening': 0, 'weight_decay': 0, 'nesterov': False, 'params': [0, 1]}]}}\n",
      "model : OrderedDict([('linear.weight', tensor([[ 0.2564,  0.2286,  0.0265,  0.2707, -0.1124, -0.2978, -0.1214, -0.2804,\n",
      "         -0.0258,  0.1516],\n",
      "        [ 0.0546,  0.1009,  0.3028,  0.2331, -0.3006, -0.2196,  0.2558,  0.1281,\n",
      "          0.1446,  0.1916],\n",
      "        [-0.1173,  0.2627, -0.3119, -0.1701,  0.0594, -0.2753, -0.2746, -0.0142,\n",
      "         -0.1768,  0.1906]])), ('linear.bias', tensor([-0.2229,  0.0689, -0.3020]))])\n",
      "optimizer: {'state': {}, 'param_groups': [{'lr': 0.001, 'momentum': 0.02, 'dampening': 0, 'weight_decay': 0, 'nesterov': False, 'params': [0, 1]}]}\n"
     ]
    }
   ],
   "source": [
    "# loading checkpoint\n",
    "\n",
    "loaded_checkpoint = torch.load(f=model_root + \"check_point.pth\")\n",
    "\n",
    "print(loaded_checkpoint)\n",
    "\n",
    "epoch_completed = loaded_checkpoint[\"epoch_completed\"]\n",
    "\n",
    "loaded_model = NeuralNet(input_features=10,output_features=3)\n",
    "\n",
    "loaded_optimizer = torch.optim.SGD(params=loaded_model.parameters(),lr= .002)\n",
    "\n",
    "loaded_model.load_state_dict(loaded_checkpoint['model'])\n",
    "\n",
    "loaded_optimizer.load_state_dict(loaded_checkpoint['optimizer'])\n",
    "\n",
    "\n",
    "print(f\"model : {model.state_dict()}\")\n",
    "print(f\"optimizer: {optimizer.state_dict()}\")\n",
    "\n",
    "\n"
   ]
  },
  {
   "cell_type": "markdown",
   "metadata": {},
   "source": [
    "# saving model for GPU and loading in cpu"
   ]
  },
  {
   "cell_type": "code",
   "execution_count": 36,
   "metadata": {},
   "outputs": [],
   "source": [
    "device = torch.device(\n",
    "\n",
    "    \"cuda\" if torch.cuda.is_available() else 'cpu'    \n",
    ")"
   ]
  },
  {
   "cell_type": "code",
   "execution_count": 37,
   "metadata": {},
   "outputs": [],
   "source": [
    "# saving model used for gpu\n",
    "model = NeuralNet(input_features=10,output_features=4)\n",
    "\n",
    "model.to(device=device)\n",
    "\n",
    "torch.save(obj=model.state_dict(),f=model_root + 'gpu.pth')\n"
   ]
  },
  {
   "cell_type": "code",
   "execution_count": 40,
   "metadata": {},
   "outputs": [
    {
     "name": "stdout",
     "output_type": "stream",
     "text": [
      "OrderedDict([('linear.weight', tensor([[-0.3016,  0.2811, -0.0589,  0.1638,  0.2143, -0.0250,  0.1822,  0.3064,\n",
      "          0.0750, -0.0405],\n",
      "        [ 0.0605, -0.2730, -0.0247,  0.0701, -0.1710,  0.3161, -0.0174, -0.2230,\n",
      "          0.0499, -0.2250],\n",
      "        [ 0.1473,  0.2538,  0.2728, -0.1441,  0.0085,  0.1462, -0.2685,  0.0788,\n",
      "         -0.1756, -0.1286],\n",
      "        [-0.1702,  0.1467, -0.0299, -0.3055, -0.2050, -0.0210,  0.1638,  0.1150,\n",
      "         -0.2766,  0.1281]])), ('linear.bias', tensor([ 0.1606, -0.1177, -0.2998,  0.1349]))])\n"
     ]
    }
   ],
   "source": [
    "# loading on cpu\n",
    "\n",
    "device = torch.device('cpu')\n",
    "\n",
    "loaded_model  = NeuralNet(input_features=10,output_features=4)\n",
    "\n",
    "loaded_dict = torch.load(f=model_root + 'gpu.pth',map_location=device)\n",
    "\n",
    "loaded_model.load_state_dict(loaded_dict)\n",
    "\n",
    "print(loaded_model.state_dict())"
   ]
  },
  {
   "cell_type": "markdown",
   "metadata": {},
   "source": [
    "# saving on cpu and loading on gpu"
   ]
  },
  {
   "cell_type": "code",
   "execution_count": 41,
   "metadata": {},
   "outputs": [],
   "source": [
    "# saving model used for cpu\n",
    "\n",
    "model = NeuralNet(input_features=10,output_features=4)\n",
    "\n",
    "model.to(device=\"cpu\")\n",
    "\n",
    "torch.save(obj=model.state_dict(),f=model_root + 'cpu.pth')"
   ]
  },
  {
   "cell_type": "code",
   "execution_count": 45,
   "metadata": {},
   "outputs": [
    {
     "name": "stdout",
     "output_type": "stream",
     "text": [
      "OrderedDict([('linear.weight', tensor([[-0.3016,  0.2811, -0.0589,  0.1638,  0.2143, -0.0250,  0.1822,  0.3064,\n",
      "          0.0750, -0.0405],\n",
      "        [ 0.0605, -0.2730, -0.0247,  0.0701, -0.1710,  0.3161, -0.0174, -0.2230,\n",
      "          0.0499, -0.2250],\n",
      "        [ 0.1473,  0.2538,  0.2728, -0.1441,  0.0085,  0.1462, -0.2685,  0.0788,\n",
      "         -0.1756, -0.1286],\n",
      "        [-0.1702,  0.1467, -0.0299, -0.3055, -0.2050, -0.0210,  0.1638,  0.1150,\n",
      "         -0.2766,  0.1281]])), ('linear.bias', tensor([ 0.1606, -0.1177, -0.2998,  0.1349]))])\n"
     ]
    }
   ],
   "source": [
    "# loading on cpu\n",
    "\n",
    "device = torch.device(\n",
    "    \"cuda\" if torch.cuda.is_available() else 'cpu'    \n",
    ")\n",
    "\n",
    "loaded_model  = NeuralNet(input_features=10,output_features=4)\n",
    "\n",
    "loaded_dict = torch.load(f=model_root + 'gpu.pth',map_location=device)\n",
    "# loaded_dict = torch.load(f=model_root + 'gpu.pth',map_location=\"cuda:0\")\n",
    "\n",
    "\n",
    "loaded_model.load_state_dict(loaded_dict)\n",
    "\n",
    "# finnaly loading the model to device\n",
    "model.to(device=device)\n",
    "\n",
    "print(loaded_model.state_dict())"
   ]
  }
 ],
 "metadata": {
  "interpreter": {
   "hash": "610c9d3786a5bcd122c38aa183fd980592c5db79f4cee84c2a544f8f000107e2"
  },
  "kernelspec": {
   "display_name": "Python 3.9.9 64-bit ('venv': venv)",
   "language": "python",
   "name": "python3"
  },
  "language_info": {
   "codemirror_mode": {
    "name": "ipython",
    "version": 3
   },
   "file_extension": ".py",
   "mimetype": "text/x-python",
   "name": "python",
   "nbconvert_exporter": "python",
   "pygments_lexer": "ipython3",
   "version": "3.9.9"
  },
  "orig_nbformat": 4
 },
 "nbformat": 4,
 "nbformat_minor": 2
}
