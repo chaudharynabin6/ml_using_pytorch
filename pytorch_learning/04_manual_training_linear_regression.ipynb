{
 "cells": [
  {
   "cell_type": "markdown",
   "metadata": {},
   "source": [
    "# linear regression problem\n",
    "\n",
    "![all manual](assets\\all_manual.png)"
   ]
  },
  {
   "cell_type": "code",
   "execution_count": 1,
   "metadata": {},
   "outputs": [
    {
     "name": "stdout",
     "output_type": "stream",
     "text": [
      "prediction before training f(10): 0.000\n",
      "_________________________________________________________\n",
      "-----------------on epoch 1---\n",
      "loss:44.000:.3f-------weight:2.2000\n",
      "-----------------on epoch 3---\n",
      "loss:0.004:.3f-------weight:2.0020\n",
      "-----------------on epoch 5---\n",
      "loss:0.000:.3f-------weight:2.0000\n",
      "-----------------on epoch 7---\n",
      "loss:0.000:.3f-------weight:2.0000\n",
      "-----------------on epoch 9---\n",
      "loss:0.000:.3f-------weight:2.0000\n",
      "-----------------on epoch 11---\n",
      "loss:0.000:.3f-------weight:2.0000\n",
      "-----------------on epoch 13---\n",
      "loss:0.000:.3f-------weight:2.0000\n",
      "-----------------on epoch 15---\n",
      "loss:0.000:.3f-------weight:2.0000\n",
      "-----------------on epoch 17---\n",
      "loss:0.000:.3f-------weight:2.0000\n",
      "-----------------on epoch 19---\n",
      "loss:0.000:.3f-------weight:2.0000\n",
      "____________________________________________________\n",
      "prediction after training f(10): 20.000\n"
     ]
    }
   ],
   "source": [
    "import numpy as np\n",
    "\n",
    "X = np.array([1,2,3,4,5],dtype=np.float32)\n",
    "Y = np.array([2,4,6,8,10],dtype=np.float32)\n",
    "N = len(X)\n",
    "w = 0.0\n",
    "\n",
    "#find w\n",
    "# y = w*x\n",
    "\n",
    "# actual w = 2\n",
    "# y = 2*x\n",
    "\n",
    "# forward to calulate y_hat ie. predict y\n",
    "def forward(x):\n",
    "    return w*x\n",
    "\n",
    "# calculate loss = mean square error\n",
    "def loss(Y,Y_predict):\n",
    "    return ((Y_predict - Y)**2).mean()\n",
    "\n",
    "# calculate gradient of loss with respect to weight\n",
    "# MSE = (y-y_hat)**2/N = (wx - y_hat)**2 / N\n",
    "# d(loss)/dw = 1/N * 2*x ( wx - y_hat) \n",
    "def gradient(X,Y,Y_predict):\n",
    "    return np.dot(2*X,Y_predict - Y).mean()\n",
    "\n",
    "# prediction before training\n",
    "\n",
    "print(f\"prediction before training f(10): {forward(10):.3f}\")\n",
    "\n",
    "print(\"_________________________________________________________\")\n",
    "# training the model or weight\n",
    "\n",
    "#NOTE: leaning rate is crucial in mean square error\n",
    "lr = .01\n",
    "epoch = 20\n",
    "for i in range(epoch):\n",
    "    \n",
    "    # calculating y_hat\n",
    "    y_predict = forward(X)\n",
    "\n",
    "    # calculating loss\n",
    "    l = loss(Y,y_predict)\n",
    "\n",
    "    # calculating gradient d(loss)/d(w)\n",
    "    dw = gradient(X,Y,y_predict)\n",
    "\n",
    "    # updating the weight\n",
    "    w = w - lr*dw\n",
    "\n",
    "    if i % 2 == 0:\n",
    "        print(f\"-----------------on epoch {i+1}---\")\n",
    "        print(f\"loss:{l:.3f}:.3f-------weight:{w:.4f}\")\n",
    "\n",
    "\n",
    "print(\"____________________________________________________\")\n",
    "print(f\"prediction after training f(10): {forward(10):.3f}\")\n",
    "\n"
   ]
  }
 ],
 "metadata": {
  "interpreter": {
   "hash": "610c9d3786a5bcd122c38aa183fd980592c5db79f4cee84c2a544f8f000107e2"
  },
  "kernelspec": {
   "display_name": "Python 3.9.9 64-bit ('venv': venv)",
   "language": "python",
   "name": "python3"
  },
  "language_info": {
   "codemirror_mode": {
    "name": "ipython",
    "version": 3
   },
   "file_extension": ".py",
   "mimetype": "text/x-python",
   "name": "python",
   "nbconvert_exporter": "python",
   "pygments_lexer": "ipython3",
   "version": "3.9.9"
  },
  "orig_nbformat": 4
 },
 "nbformat": 4,
 "nbformat_minor": 2
}
