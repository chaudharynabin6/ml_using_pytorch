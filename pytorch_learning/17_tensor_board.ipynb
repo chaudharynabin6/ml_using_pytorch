{
 "cells": [
  {
   "cell_type": "markdown",
   "metadata": {},
   "source": [
    "# What is MNIST dataset?\n",
    "Image result for mnist dataset\n",
    "The MNIST dataset is an acronym that stands for the Modified National Institute of Standards and Technology dataset. It is a dataset of 60,000 small square 28×28 pixel grayscale images of handwritten single digits between 0 and 9"
   ]
  },
  {
   "cell_type": "code",
   "execution_count": 1,
   "metadata": {},
   "outputs": [
    {
     "data": {
      "text/plain": [
       "'\\n[] config\\n[] hyper parameter \\n[] dataset\\n[] dataloader\\n[] data visualization\\n[] model designing\\n[] criterion and optimizer\\n[] training loop (with batch)\\n'"
      ]
     },
     "execution_count": 1,
     "metadata": {},
     "output_type": "execute_result"
    }
   ],
   "source": [
    "'''\n",
    "[] config\n",
    "[] hyper parameter \n",
    "[] dataset\n",
    "[] dataloader\n",
    "[] data visualization\n",
    "[] model designing\n",
    "[] criterion and optimizer\n",
    "[] training loop (with batch)\n",
    "'''"
   ]
  },
  {
   "cell_type": "code",
   "execution_count": 2,
   "metadata": {},
   "outputs": [],
   "source": [
    "# imports\n",
    "\n",
    "import torch\n",
    "import torch.nn as nn\n",
    "\n",
    "from torchvision  import datasets,transforms\n",
    "import torchvision\n",
    "from torch.utils.data import dataset,dataloader\n",
    "\n",
    "import matplotlib.pyplot as plot\n",
    "\n",
    "\n"
   ]
  },
  {
   "cell_type": "markdown",
   "metadata": {},
   "source": [
    "# tensor board"
   ]
  },
  {
   "cell_type": "code",
   "execution_count": 3,
   "metadata": {},
   "outputs": [],
   "source": [
    "############## TENSORBOARD ########################\n",
    "import sys\n",
    "import torch.nn.functional as F\n",
    "from torch.utils.tensorboard import SummaryWriter\n",
    "# default `log_dir` is \"runs\" - we'll be more specific here\n",
    "writer = SummaryWriter('runs/mnist1')\n",
    "###################################################"
   ]
  },
  {
   "cell_type": "code",
   "execution_count": 4,
   "metadata": {},
   "outputs": [
    {
     "name": "stdout",
     "output_type": "stream",
     "text": [
      "device used: cpu\n"
     ]
    }
   ],
   "source": [
    "# configs\n",
    "\n",
    "# device config\n",
    "\n",
    "device_name = \"cuda\" if torch.cuda.is_available() else \"cpu\"\n",
    "device = torch.device(device=device_name)\n",
    "print(f\"device used: {device}\")"
   ]
  },
  {
   "cell_type": "code",
   "execution_count": 5,
   "metadata": {},
   "outputs": [],
   "source": [
    "# hyper parameters\n",
    "\n",
    "input_layer_nodes = 28*28 # input grid size\n",
    "\n",
    "hidden_layer_nodes = 100 # used for improving classification\n",
    "\n",
    "output_layer_nodes = 10 # total number of classes\n",
    "\n",
    "batch_size = 64 # fast training use 32 or 64\n",
    "\n",
    "learning_rate = 0.01 # learning rate\n",
    "\n",
    "number_of_epochs = 2 # number of epochs\n",
    "\n",
    "\n",
    "\n"
   ]
  },
  {
   "cell_type": "markdown",
   "metadata": {},
   "source": [
    "# Data from Dataset"
   ]
  },
  {
   "cell_type": "code",
   "execution_count": 6,
   "metadata": {},
   "outputs": [],
   "source": [
    "class Reshape():\n",
    "\n",
    "    def __init__(self,row,col) -> None:\n",
    "        self.row = row\n",
    "        self.col = col\n",
    "    \n",
    "    def __call__(self,single_sample):\n",
    "        # print(single_sample)\n",
    "        features = single_sample\n",
    "\n",
    "        features  = features.view(-1,self.row*self.col)\n",
    "\n",
    "        return features\n",
    "\n",
    "\n",
    "composed_transform = transforms.Compose(transforms=[\n",
    "    transforms.ToTensor(),\n",
    "    Reshape(28,28)\n",
    "])\n"
   ]
  },
  {
   "cell_type": "code",
   "execution_count": 7,
   "metadata": {},
   "outputs": [],
   "source": [
    "train_dataset = datasets.MNIST(\n",
    "    root=\"./data/mnist/\",\n",
    "    download=True,\n",
    "    train=True,\n",
    "    transform= composed_transform\n",
    "    )\n",
    "# train_dataset.data.shape\n",
    "# train_dataset.__getitem__(0)"
   ]
  },
  {
   "cell_type": "code",
   "execution_count": 8,
   "metadata": {},
   "outputs": [
    {
     "data": {
      "text/plain": [
       "torch.Size([60000, 28, 28])"
      ]
     },
     "execution_count": 8,
     "metadata": {},
     "output_type": "execute_result"
    }
   ],
   "source": [
    "test_dataset = datasets.MNIST(\n",
    "    root='./data/mnist/',\n",
    "    train=False,\n",
    "    download=True,\n",
    "    transform=transforms.transforms.ToTensor()\n",
    ")\n",
    "train_dataset.data.shape"
   ]
  },
  {
   "cell_type": "code",
   "execution_count": 9,
   "metadata": {},
   "outputs": [],
   "source": [
    "train_loader = dataloader.DataLoader(\n",
    "    dataset=train_dataset,\n",
    "    batch_size=batch_size,\n",
    "    shuffle=True\n",
    "    )\n",
    "\n",
    "test_loader = dataloader.DataLoader(\n",
    "    dataset=test_dataset,\n",
    "    batch_size=batch_size,\n",
    "    shuffle=False,\n",
    "    \n",
    ")"
   ]
  },
  {
   "cell_type": "code",
   "execution_count": 10,
   "metadata": {},
   "outputs": [
    {
     "name": "stdout",
     "output_type": "stream",
     "text": [
      "sample size : torch.Size([64, 1, 784])\n",
      "label size: torch.Size([64])\n"
     ]
    }
   ],
   "source": [
    "all_sample = iter(train_loader)\n",
    "\n",
    "first_sample = all_sample.next()\n",
    "\n",
    "sample,label = first_sample\n",
    "\n",
    "print(f\"sample size : {sample.shape}\")\n",
    "print(f\"label size: {label.shape}\")\n",
    "\n",
    "# print(f\"sample : {sample}\")\n",
    "# print(f\"label: {label}\")\n",
    "\n"
   ]
  },
  {
   "cell_type": "code",
   "execution_count": 11,
   "metadata": {},
   "outputs": [
    {
     "data": {
      "text/plain": [
       "torch.Size([64, 1, 28, 28])"
      ]
     },
     "execution_count": 11,
     "metadata": {},
     "output_type": "execute_result"
    }
   ],
   "source": [
    "sample.shape\n",
    "example_sample = sample.view(-1,1,28,28)\n",
    "example_sample.shape"
   ]
  },
  {
   "cell_type": "code",
   "execution_count": 12,
   "metadata": {},
   "outputs": [
    {
     "data": {
      "image/png": "[encoded data removed]",
      "text/plain": [
       "<Figure size 432x288 with 6 Axes>"
      ]
     },
     "metadata": {
      "needs_background": "light"
     },
     "output_type": "display_data"
    }
   ],
   "source": [
    "for i in range(6):\n",
    "    plot.subplot(2,3,i+1)\n",
    "    plot.imshow(sample[i][0].view(28,28),cmap=\"gray\")\n",
    "plot.show()"
   ]
  },
  {
   "cell_type": "code",
   "execution_count": 13,
   "metadata": {},
   "outputs": [],
   "source": [
    "\n",
    "############## TENSORBOARD ########################\n",
    "img_grid = torchvision.utils.make_grid(example_sample)\n",
    "writer.add_image('mnist_images', img_grid)\n",
    "writer.close()\n",
    "###################################################"
   ]
  },
  {
   "cell_type": "markdown",
   "metadata": {},
   "source": [
    "# Designing Neural Network"
   ]
  },
  {
   "cell_type": "code",
   "execution_count": 14,
   "metadata": {},
   "outputs": [],
   "source": [
    "# Neural Network\n",
    "\n",
    "class NeuralNetork(nn.Module):\n",
    "\n",
    "    def __init__(self,input_layer_nodes,hidden_layer_nodes,output_layer_nodes) -> None:\n",
    "        super(NeuralNetork,self).__init__()\n",
    "\n",
    "    \n",
    "        self.input_layer = nn.Linear(in_features=input_layer_nodes,out_features=hidden_layer_nodes)\n",
    "        \n",
    "        self.relu_activation = nn.ReLU()\n",
    "\n",
    "        self.hiden_layer = nn.Linear(in_features=hidden_layer_nodes,out_features=output_layer_nodes)\n",
    "\n",
    "        # no softmax\n",
    "\n",
    "    \n",
    "    def forward(self,batch_samples):\n",
    "        out = batch_samples.view(-1,28*28)\n",
    "        # print(out.shape)\n",
    "        out = self.input_layer(out)\n",
    "\n",
    "        out = self.relu_activation(out)\n",
    "\n",
    "        out = self.hiden_layer(out)\n",
    "\n",
    "        return out\n",
    "\n",
    "model = NeuralNetork(input_layer_nodes=input_layer_nodes,hidden_layer_nodes=hidden_layer_nodes,output_layer_nodes=output_layer_nodes)"
   ]
  },
  {
   "cell_type": "code",
   "execution_count": 15,
   "metadata": {},
   "outputs": [],
   "source": [
    "############## TENSORBOARD ########################\n",
    "writer.add_graph(model, example_sample.reshape(-1, 28*28))\n",
    "writer.close()\n",
    "#sys.exit()\n",
    "###################################################\n"
   ]
  },
  {
   "cell_type": "markdown",
   "metadata": {},
   "source": [
    "# criterian and optimizer"
   ]
  },
  {
   "cell_type": "code",
   "execution_count": 16,
   "metadata": {},
   "outputs": [],
   "source": [
    "\n",
    "criterian = nn.CrossEntropyLoss()\n",
    "\n",
    "optimizer = torch.optim.Adam(model.parameters(),lr=learning_rate)"
   ]
  },
  {
   "cell_type": "markdown",
   "metadata": {},
   "source": [
    "# Training Loop"
   ]
  },
  {
   "cell_type": "code",
   "execution_count": 17,
   "metadata": {},
   "outputs": [
    {
     "name": "stdout",
     "output_type": "stream",
     "text": [
      "-------------------- iteration --100 ----------------\n",
      "loss: 0.088\n",
      "-------------------- iteration --200 ----------------\n",
      "loss: 0.260\n",
      "-------------------- iteration --300 ----------------\n",
      "loss: 0.393\n",
      "-------------------- iteration --400 ----------------\n",
      "loss: 0.275\n",
      "-------------------- iteration --500 ----------------\n",
      "loss: 0.134\n",
      "-------------------- iteration --600 ----------------\n",
      "loss: 0.133\n",
      "-------------------- iteration --700 ----------------\n",
      "loss: 0.097\n",
      "-------------------- iteration --800 ----------------\n",
      "loss: 0.121\n",
      "-------------------- iteration --900 ----------------\n",
      "loss: 0.105\n",
      "-------------------- iteration --100 ----------------\n",
      "loss: 0.060\n",
      "-------------------- iteration --200 ----------------\n",
      "loss: 0.034\n",
      "-------------------- iteration --300 ----------------\n",
      "loss: 0.095\n",
      "-------------------- iteration --400 ----------------\n",
      "loss: 0.209\n",
      "-------------------- iteration --500 ----------------\n",
      "loss: 0.097\n",
      "-------------------- iteration --600 ----------------\n",
      "loss: 0.141\n",
      "-------------------- iteration --700 ----------------\n",
      "loss: 0.051\n",
      "-------------------- iteration --800 ----------------\n",
      "loss: 0.038\n",
      "-------------------- iteration --900 ----------------\n",
      "loss: 0.102\n"
     ]
    }
   ],
   "source": [
    "# Train the model\n",
    "running_loss = 0.0\n",
    "running_correct = 0\n",
    "n_total_steps = len(train_loader)\n",
    "for epoch in range(number_of_epochs):\n",
    "\n",
    "    for i,(sample,labels) in enumerate(train_loader):\n",
    "        # making grad zero for each next batch size\n",
    "        optimizer.zero_grad()\n",
    "\n",
    "        # sample = sample.view(-1,28*28).to(device)\n",
    "        # print(sample.shape)\n",
    "        sample = sample.to(device)\n",
    "        # print(sample.shape)\n",
    "\n",
    "        labels = labels.to(device)\n",
    "\n",
    "        y_predict = model(sample)\n",
    "\n",
    "        loss = criterian(y_predict,labels)\n",
    "\n",
    "        loss.backward()\n",
    "\n",
    "        optimizer.step()\n",
    "\n",
    "        running_loss = loss\n",
    "        \n",
    "        _, predicted = torch.max(y_predict.data, 1)\n",
    "        running_correct += (predicted == labels).sum().item()\n",
    "\n",
    "        if (i+1) % 100 == 0:\n",
    "            \n",
    "            print(f\"-------------------- iteration --{i+1} ----------------\")\n",
    "\n",
    "            print(f\"loss: {loss:.03f}\")\n",
    "                ############## TENSORBOARD ########################\n",
    "            writer.add_scalar('training loss', running_loss / 100, epoch * n_total_steps + i)\n",
    "            running_accuracy = running_correct / (100 * predicted.size(0))\n",
    "            writer.add_scalar('accuracy', running_accuracy, epoch * n_total_steps*predicted.size(0) + i)\n",
    "            running_correct = 0\n",
    "            running_loss = 0.0\n",
    "            ###################################################"
   ]
  },
  {
   "cell_type": "markdown",
   "metadata": {},
   "source": [
    "# Testing"
   ]
  },
  {
   "cell_type": "code",
   "execution_count": 18,
   "metadata": {},
   "outputs": [
    {
     "name": "stdout",
     "output_type": "stream",
     "text": [
      "accuracy: 0.9621000289916992\n"
     ]
    }
   ],
   "source": [
    "# Test the model\n",
    "# In test phase, we don't need to compute gradients (for memory efficiency)\n",
    "class_labels = []\n",
    "class_preds = []\n",
    "n_samples = 0\n",
    "n_correct = 0\n",
    "with torch.no_grad():\n",
    "    for (batch_samples,label) in iter(test_loader):\n",
    "\n",
    "        batch_samples = batch_samples.to(device)\n",
    "        y_predict = model(batch_samples)\n",
    "\n",
    "        _,prediction = torch.max(y_predict,dim=1)\n",
    "\n",
    "        n_correct += (prediction == label).sum()\n",
    "\n",
    "        n_samples += batch_samples.shape[0]\n",
    "\n",
    "\n",
    "        class_probs_batch = [F.softmax(output, dim=0) for output in y_predict]\n",
    "\n",
    "        class_preds.append(class_probs_batch)\n",
    "        class_labels.append(prediction)\n",
    "\n",
    "\n",
    "    \n",
    "\n",
    "\n",
    "    \n",
    "    # 10000, 10, and 10000, 1\n",
    "    # stack concatenates tensors along a new dimension\n",
    "    # cat concatenates tensors in the given dimension\n",
    "    class_preds = torch.cat([torch.stack(batch) for batch in class_preds])\n",
    "    class_labels = torch.cat(class_labels)\n",
    "\n",
    "    ############## TENSORBOARD ########################\n",
    "    classes = range(10)\n",
    "    for i in classes:\n",
    "        labels_i = class_labels == i\n",
    "        preds_i = class_preds[:, i]\n",
    "        writer.add_pr_curve(str(i), labels_i, preds_i, global_step=0)\n",
    "        writer.close()\n",
    "    ###################################################\n",
    "    acc = n_correct/ n_samples\n",
    "    print(f\"accuracy: {acc}\")\n",
    "\n",
    "    "
   ]
  }
 ],
 "metadata": {
  "interpreter": {
   "hash": "610c9d3786a5bcd122c38aa183fd980592c5db79f4cee84c2a544f8f000107e2"
  },
  "kernelspec": {
   "display_name": "Python 3.9.9 64-bit ('venv': venv)",
   "language": "python",
   "name": "python3"
  },
  "language_info": {
   "codemirror_mode": {
    "name": "ipython",
    "version": 3
   },
   "file_extension": ".py",
   "mimetype": "text/x-python",
   "name": "python",
   "nbconvert_exporter": "python",
   "pygments_lexer": "ipython3",
   "version": "3.9.9"
  },
  "orig_nbformat": 4
 },
 "nbformat": 4,
 "nbformat_minor": 2
}
