{
 "cells": [
  {
   "cell_type": "markdown",
   "metadata": {},
   "source": [
    "# What is MNIST dataset?\n",
    "Image result for mnist dataset\n",
    "The MNIST dataset is an acronym that stands for the Modified National Institute of Standards and Technology dataset. It is a dataset of 60,000 small square 28×28 pixel grayscale images of handwritten single digits between 0 and 9"
   ]
  },
  {
   "cell_type": "code",
   "execution_count": 2,
   "metadata": {},
   "outputs": [
    {
     "data": {
      "text/plain": [
       "'\\n[] config\\n[] hyper parameter \\n[] dataset\\n[] dataloader\\n[] data visualization\\n[] model designing\\n[] criterion and optimizer\\n[] training loop (with batch)\\n'"
      ]
     },
     "execution_count": 2,
     "metadata": {},
     "output_type": "execute_result"
    }
   ],
   "source": [
    "'''\n",
    "[] config\n",
    "[] hyper parameter \n",
    "[] dataset\n",
    "[] dataloader\n",
    "[] data visualization\n",
    "[] model designing\n",
    "[] criterion and optimizer\n",
    "[] training loop (with batch)\n",
    "'''"
   ]
  },
  {
   "cell_type": "code",
   "execution_count": 3,
   "metadata": {},
   "outputs": [],
   "source": [
    "# imports\n",
    "\n",
    "import torch\n",
    "import torch.nn as nn\n",
    "\n",
    "from torchvision  import datasets,transforms\n",
    "from torch.utils.data import dataset,dataloader\n",
    "\n",
    "import matplotlib.pyplot as plot\n",
    "\n"
   ]
  },
  {
   "cell_type": "code",
   "execution_count": 4,
   "metadata": {},
   "outputs": [
    {
     "name": "stdout",
     "output_type": "stream",
     "text": [
      "device used: cpu\n"
     ]
    }
   ],
   "source": [
    "# configs\n",
    "\n",
    "# device config\n",
    "\n",
    "device_name = \"cuda\" if torch.cuda.is_available() else \"cpu\"\n",
    "device = torch.device(device=device_name)\n",
    "print(f\"device used: {device}\")"
   ]
  },
  {
   "cell_type": "code",
   "execution_count": 5,
   "metadata": {},
   "outputs": [],
   "source": [
    "# hyper parameters\n",
    "\n",
    "input_layer_nodes = 28*28 # input grid size\n",
    "\n",
    "hidden_layer_nodes = 100 # used for improving classification\n",
    "\n",
    "output_layer_nodes = 10 # total number of classes\n",
    "\n",
    "batch_size = 64 # fast training use 32 or 64\n",
    "\n",
    "learning_rate = 0.01 # learning rate\n",
    "\n",
    "number_of_epochs = 2 # number of epochs\n",
    "\n",
    "\n",
    "\n"
   ]
  },
  {
   "cell_type": "markdown",
   "metadata": {},
   "source": [
    "# Data from Dataset"
   ]
  },
  {
   "cell_type": "code",
   "execution_count": 6,
   "metadata": {},
   "outputs": [],
   "source": [
    "class Reshape():\n",
    "\n",
    "    def __init__(self,row,col) -> None:\n",
    "        self.row = row\n",
    "        self.col = col\n",
    "    \n",
    "    def __call__(self,single_sample):\n",
    "        # print(single_sample)\n",
    "        features = single_sample\n",
    "\n",
    "        features  = features.view(-1,self.row*self.col)\n",
    "\n",
    "        return features\n",
    "\n",
    "\n",
    "composed_transform = transforms.Compose(transforms=[\n",
    "    transforms.ToTensor(),\n",
    "    Reshape(28,28)\n",
    "])\n"
   ]
  },
  {
   "cell_type": "code",
   "execution_count": 7,
   "metadata": {},
   "outputs": [],
   "source": [
    "train_dataset = datasets.MNIST(\n",
    "    root=\"./data/mnist/\",\n",
    "    download=True,\n",
    "    train=True,\n",
    "    transform= composed_transform\n",
    "    )\n",
    "# train_dataset.data.shape\n",
    "# train_dataset.__getitem__(0)"
   ]
  },
  {
   "cell_type": "code",
   "execution_count": 8,
   "metadata": {},
   "outputs": [
    {
     "data": {
      "text/plain": [
       "torch.Size([60000, 28, 28])"
      ]
     },
     "execution_count": 8,
     "metadata": {},
     "output_type": "execute_result"
    }
   ],
   "source": [
    "test_dataset = datasets.MNIST(\n",
    "    root='./data/mnist/',\n",
    "    train=False,\n",
    "    download=True,\n",
    "    transform=transforms.transforms.ToTensor()\n",
    ")\n",
    "train_dataset.data.shape"
   ]
  },
  {
   "cell_type": "code",
   "execution_count": 9,
   "metadata": {},
   "outputs": [],
   "source": [
    "train_loader = dataloader.DataLoader(\n",
    "    dataset=train_dataset,\n",
    "    batch_size=batch_size,\n",
    "    shuffle=True\n",
    "    )\n",
    "\n",
    "test_loader = dataloader.DataLoader(\n",
    "    dataset=test_dataset,\n",
    "    batch_size=batch_size,\n",
    "    shuffle=False,\n",
    "    \n",
    ")"
   ]
  },
  {
   "cell_type": "code",
   "execution_count": 10,
   "metadata": {},
   "outputs": [
    {
     "name": "stdout",
     "output_type": "stream",
     "text": [
      "sample size : torch.Size([64, 1, 784])\n",
      "label size: torch.Size([64])\n"
     ]
    }
   ],
   "source": [
    "all_sample = iter(train_loader)\n",
    "\n",
    "first_sample = all_sample.next()\n",
    "\n",
    "sample,label = first_sample\n",
    "\n",
    "print(f\"sample size : {sample.shape}\")\n",
    "print(f\"label size: {label.shape}\")\n",
    "\n",
    "# print(f\"sample : {sample}\")\n",
    "# print(f\"label: {label}\")\n",
    "\n"
   ]
  },
  {
   "cell_type": "code",
   "execution_count": 11,
   "metadata": {},
   "outputs": [
    {
     "data": {
      "image/png": "[encoded data removed]",
      "text/plain": [
       "<Figure size 432x288 with 6 Axes>"
      ]
     },
     "metadata": {
      "needs_background": "light"
     },
     "output_type": "display_data"
    }
   ],
   "source": [
    "for i in range(6):\n",
    "    plot.subplot(2,3,i+1)\n",
    "    plot.imshow(sample[i][0].view(28,28),cmap=\"gray\")\n",
    "plot.show()"
   ]
  },
  {
   "cell_type": "markdown",
   "metadata": {},
   "source": [
    "# Designing Neural Network"
   ]
  },
  {
   "cell_type": "code",
   "execution_count": 12,
   "metadata": {},
   "outputs": [],
   "source": [
    "# Neural Network\n",
    "\n",
    "class NeuralNetork(nn.Module):\n",
    "\n",
    "    def __init__(self,input_layer_nodes,hidden_layer_nodes,output_layer_nodes) -> None:\n",
    "        super(NeuralNetork,self).__init__()\n",
    "\n",
    "    \n",
    "        self.input_layer = nn.Linear(in_features=input_layer_nodes,out_features=hidden_layer_nodes)\n",
    "        \n",
    "        self.relu_activation = nn.ReLU()\n",
    "\n",
    "        self.hiden_layer = nn.Linear(in_features=hidden_layer_nodes,out_features=output_layer_nodes)\n",
    "\n",
    "        # no softmax\n",
    "\n",
    "    \n",
    "    def forward(self,batch_samples):\n",
    "        out = batch_samples.view(-1,28*28)\n",
    "        # print(out.shape)\n",
    "        out = self.input_layer(out)\n",
    "\n",
    "        out = self.relu_activation(out)\n",
    "\n",
    "        out = self.hiden_layer(out)\n",
    "\n",
    "        return out\n",
    "\n",
    "model = NeuralNetork(input_layer_nodes=input_layer_nodes,hidden_layer_nodes=hidden_layer_nodes,output_layer_nodes=output_layer_nodes)"
   ]
  },
  {
   "cell_type": "markdown",
   "metadata": {},
   "source": [
    "# criterian and optimizer"
   ]
  },
  {
   "cell_type": "code",
   "execution_count": 13,
   "metadata": {},
   "outputs": [],
   "source": [
    "\n",
    "criterian = nn.CrossEntropyLoss()\n",
    "\n",
    "optimizer = torch.optim.Adam(model.parameters(),lr=learning_rate)"
   ]
  },
  {
   "cell_type": "markdown",
   "metadata": {},
   "source": [
    "# Training Loop"
   ]
  },
  {
   "cell_type": "code",
   "execution_count": 14,
   "metadata": {},
   "outputs": [
    {
     "name": "stdout",
     "output_type": "stream",
     "text": [
      "-------------------- iteration --100 ----------------\n",
      "loss: 0.145\n",
      "-------------------- iteration --200 ----------------\n",
      "loss: 0.192\n",
      "-------------------- iteration --300 ----------------\n",
      "loss: 0.118\n",
      "-------------------- iteration --400 ----------------\n",
      "loss: 0.092\n",
      "-------------------- iteration --500 ----------------\n",
      "loss: 0.148\n",
      "-------------------- iteration --600 ----------------\n",
      "loss: 0.229\n",
      "-------------------- iteration --700 ----------------\n",
      "loss: 0.179\n",
      "-------------------- iteration --800 ----------------\n",
      "loss: 0.193\n",
      "-------------------- iteration --900 ----------------\n",
      "loss: 0.090\n",
      "-------------------- iteration --100 ----------------\n",
      "loss: 0.103\n",
      "-------------------- iteration --200 ----------------\n",
      "loss: 0.178\n",
      "-------------------- iteration --300 ----------------\n",
      "loss: 0.255\n",
      "-------------------- iteration --400 ----------------\n",
      "loss: 0.052\n",
      "-------------------- iteration --500 ----------------\n",
      "loss: 0.015\n",
      "-------------------- iteration --600 ----------------\n",
      "loss: 0.167\n",
      "-------------------- iteration --700 ----------------\n",
      "loss: 0.103\n",
      "-------------------- iteration --800 ----------------\n",
      "loss: 0.018\n",
      "-------------------- iteration --900 ----------------\n",
      "loss: 0.128\n"
     ]
    }
   ],
   "source": [
    "for epoch in range(number_of_epochs):\n",
    "\n",
    "    for i,(sample,labels) in enumerate(train_loader):\n",
    "        # making grad zero for each next batch size\n",
    "        optimizer.zero_grad()\n",
    "\n",
    "        # sample = sample.view(-1,28*28).to(device)\n",
    "        # print(sample.shape)\n",
    "        sample = sample.to(device)\n",
    "        # print(sample.shape)\n",
    "\n",
    "        labels = labels.to(device)\n",
    "\n",
    "        y_predict = model(sample)\n",
    "\n",
    "        loss = criterian(y_predict,labels)\n",
    "\n",
    "        loss.backward()\n",
    "\n",
    "        optimizer.step()\n",
    "\n",
    "        if (i+1) % 100 == 0:\n",
    "            \n",
    "            print(f\"-------------------- iteration --{i+1} ----------------\")\n",
    "\n",
    "            print(f\"loss: {loss:.03f}\")"
   ]
  },
  {
   "cell_type": "markdown",
   "metadata": {},
   "source": [
    "# Testing"
   ]
  },
  {
   "cell_type": "code",
   "execution_count": 15,
   "metadata": {},
   "outputs": [
    {
     "name": "stdout",
     "output_type": "stream",
     "text": [
      "accuracy: 0.963699996471405\n"
     ]
    }
   ],
   "source": [
    "n_samples = 0\n",
    "n_correct = 0\n",
    "with torch.no_grad():\n",
    "    for (batch_samples,label) in iter(test_loader):\n",
    "\n",
    "        batch_samples = batch_samples.to(device)\n",
    "        y_predict = model(batch_samples)\n",
    "\n",
    "        _,prediction = torch.max(y_predict,dim=1)\n",
    "\n",
    "        n_correct += (prediction == label).sum()\n",
    "\n",
    "        n_samples += batch_samples.shape[0]\n",
    "\n",
    "    acc = n_correct/ n_samples\n",
    "\n",
    "print(f\"accuracy: {acc}\")\n",
    "\n",
    "    "
   ]
  }
 ],
 "metadata": {
  "interpreter": {
   "hash": "610c9d3786a5bcd122c38aa183fd980592c5db79f4cee84c2a544f8f000107e2"
  },
  "kernelspec": {
   "display_name": "Python 3.9.9 64-bit ('venv': venv)",
   "language": "python",
   "name": "python3"
  },
  "language_info": {
   "codemirror_mode": {
    "name": "ipython",
    "version": 3
   },
   "file_extension": ".py",
   "mimetype": "text/x-python",
   "name": "python",
   "nbconvert_exporter": "python",
   "pygments_lexer": "ipython3",
   "version": "3.9.9"
  },
  "orig_nbformat": 4
 },
 "nbformat": 4,
 "nbformat_minor": 2
}
