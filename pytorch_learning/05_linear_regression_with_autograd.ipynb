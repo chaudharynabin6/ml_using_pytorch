{
 "cells": [
  {
   "cell_type": "markdown",
   "metadata": {},
   "source": [
    "# linear regression with Auto gradient calculation\n",
    "\n",
    "![autograd](assets/autograd.png)"
   ]
  },
  {
   "cell_type": "code",
   "execution_count": 25,
   "metadata": {},
   "outputs": [
    {
     "name": "stdout",
     "output_type": "stream",
     "text": [
      "prediction before training f(10): 0.000\n",
      "_________________________________________________________\n",
      "-----------------on epoch 1---\n",
      "loss:44.000:.3f-------weight:0.4400\n",
      "-----------------on epoch 11---\n",
      "loss:0.306:.3f-------weight:1.8700\n",
      "-----------------on epoch 21---\n",
      "loss:0.002:.3f-------weight:1.9892\n",
      "-----------------on epoch 31---\n",
      "loss:0.000:.3f-------weight:1.9991\n",
      "-----------------on epoch 41---\n",
      "loss:0.000:.3f-------weight:1.9999\n",
      "-----------------on epoch 51---\n",
      "loss:0.000:.3f-------weight:2.0000\n",
      "-----------------on epoch 61---\n",
      "loss:0.000:.3f-------weight:2.0000\n",
      "-----------------on epoch 71---\n",
      "loss:0.000:.3f-------weight:2.0000\n",
      "-----------------on epoch 81---\n",
      "loss:0.000:.3f-------weight:2.0000\n",
      "-----------------on epoch 91---\n",
      "loss:0.000:.3f-------weight:2.0000\n",
      "____________________________________________________\n",
      "prediction after training f(10): 20.000\n"
     ]
    }
   ],
   "source": [
    "import torch\n",
    "\n",
    "# input\n",
    "X = torch.tensor([1,2,3,4,5],dtype=torch.float32)\n",
    "# label\n",
    "Y = torch.tensor([2,4,6,8,10],dtype=torch.float32)\n",
    "\n",
    "# size of data\n",
    "N = len(X)\n",
    "\n",
    "# weight\n",
    "w = torch.tensor(0.0,requires_grad=True)\n",
    "\n",
    "#find w\n",
    "# y = w*x\n",
    "\n",
    "# actual w = 2\n",
    "# y = 2*x\n",
    "\n",
    "# forward to calulate y_hat ie. predict y\n",
    "def forward(x):\n",
    "    return w*x\n",
    "\n",
    "# calculate loss = mean square error\n",
    "def loss(Y,Y_predict):\n",
    "    return ((Y_predict - Y)**2).mean()\n",
    "\n",
    "# calculate gradient of loss with respect to weight\n",
    "# done by auto grad\n",
    "\n",
    "# prediction before training\n",
    "\n",
    "print(f\"prediction before training f(10): {forward(10):.3f}\")\n",
    "\n",
    "print(\"_________________________________________________________\")\n",
    "# training the model or weight\n",
    "\n",
    "#NOTE: leaning rate is crucial in mean square error\n",
    "learning_rate = torch.tensor(0.01) # learning rate\n",
    "itrs = 100\n",
    "for epoch in range(itrs):\n",
    "    \n",
    "    # calculating y_hat\n",
    "    y_predict = forward(X)\n",
    "\n",
    "    # calculating loss\n",
    "    l = loss(Y,y_predict)\n",
    "    \n",
    "    # calculating gradient d(loss)/d(w)\n",
    "    l.backward()\n",
    "\n",
    "    # updating the weight\n",
    "    # with torch.no_grad():\n",
    "    with torch.no_grad():\n",
    "        # w = w - learning_rate * w.grad   #ERROR: is different then\n",
    "        w -= learning_rate * w.grad\n",
    "\n",
    "\n",
    "    # # making gradient zero in each loop\n",
    "    w.grad.zero_()\n",
    "\n",
    "    if epoch % 10 == 0:\n",
    "        print(f\"-----------------on epoch {epoch+1}---\")\n",
    "        print(f\"loss:{l:.3f}:.3f-------weight:{w:.4f}\")\n",
    "\n",
    "\n",
    "print(\"____________________________________________________\")\n",
    "print(f\"prediction after training f(10): {forward(10):.3f}\")\n",
    "\n"
   ]
  },
  {
   "cell_type": "code",
   "execution_count": 26,
   "metadata": {},
   "outputs": [
    {
     "data": {
      "text/plain": [
       "tensor(2.0000, requires_grad=True)"
      ]
     },
     "execution_count": 26,
     "metadata": {},
     "output_type": "execute_result"
    }
   ],
   "source": []
  }
 ],
 "metadata": {
  "interpreter": {
   "hash": "610c9d3786a5bcd122c38aa183fd980592c5db79f4cee84c2a544f8f000107e2"
  },
  "kernelspec": {
   "display_name": "Python 3.9.9 64-bit ('venv': venv)",
   "language": "python",
   "name": "python3"
  },
  "language_info": {
   "codemirror_mode": {
    "name": "ipython",
    "version": 3
   },
   "file_extension": ".py",
   "mimetype": "text/x-python",
   "name": "python",
   "nbconvert_exporter": "python",
   "pygments_lexer": "ipython3",
   "version": "3.9.9"
  },
  "orig_nbformat": 4
 },
 "nbformat": 4,
 "nbformat_minor": 2
}
