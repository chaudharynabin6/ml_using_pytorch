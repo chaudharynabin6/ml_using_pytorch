{
 "cells": [
  {
   "cell_type": "markdown",
   "metadata": {},
   "source": [
    "# transform in pytorch\n",
    "\n",
    "```\n",
    "Transforms can be applied to PIL images, tensors, ndarrays, or custom data\n",
    "during creation of the DataSet\n",
    "complete list of built-in transforms: \n",
    "https://pytorch.org/docs/stable/torchvision/transforms.html\n",
    "On Images\n",
    "---------\n",
    "CenterCrop, Grayscale, Pad, RandomAffine\n",
    "RandomCrop, RandomHorizontalFlip, RandomRotation\n",
    "Resize, Scale\n",
    "On Tensors\n",
    "----------\n",
    "LinearTransformation, Normalize, RandomErasing\n",
    "Conversion\n",
    "----------\n",
    "ToPILImage: from tensor or ndrarray\n",
    "ToTensor : from numpy.ndarray or PILImage\n",
    "Generic\n",
    "-------\n",
    "Use Lambda \n",
    "Custom\n",
    "------\n",
    "Write own class\n",
    "Compose multiple Transforms\n",
    "---------------------------\n",
    "composed = transforms.Compose([Rescale(256),\n",
    "                               RandomCrop(224)])\n",
    "```"
   ]
  },
  {
   "cell_type": "code",
   "execution_count": 29,
   "metadata": {},
   "outputs": [],
   "source": [
    "import torch\n",
    "import torch.nn as nn\n",
    "import numpy as np\n",
    "from torch.utils.data import dataset,dataloader\n",
    "import torchvision\n",
    "import math\n"
   ]
  },
  {
   "cell_type": "code",
   "execution_count": null,
   "metadata": {},
   "outputs": [],
   "source": []
  },
  {
   "cell_type": "code",
   "execution_count": 30,
   "metadata": {},
   "outputs": [],
   "source": [
    "class WineDataSet(dataset.Dataset):\n",
    "\n",
    "    def __init__(self,transform = None):\n",
    "        xy = np.loadtxt(\"./data/wine/wine.csv\",delimiter=\",\",skiprows=1,dtype=np.float32)\n",
    "\n",
    "        # spliting the data to input and label\n",
    "        self.x = xy[:,1:]\n",
    "        self.y = xy[:,[0]] # for converting to shape of (n_sample,1)\n",
    "        \n",
    "        # initializing transform\n",
    "        self.transform = transform\n",
    "\n",
    "        self.n_sample = self.x.shape[0]\n",
    "    \n",
    "    def __getitem__(self, index):\n",
    "        '''\n",
    "        helps to access the each tuple of dataset\n",
    "        '''\n",
    "        sample = (self.x[index],self.y[index])\n",
    "        if self.transform :\n",
    "\n",
    "            sample = self.transform(sample)\n",
    "\n",
    "        return sample\n",
    "\n",
    "    \n",
    "    def __len__(self):\n",
    "        '''\n",
    "        return the number of samples in the dataset\n",
    "        '''\n",
    "        return (self.n_sample)"
   ]
  },
  {
   "cell_type": "markdown",
   "metadata": {},
   "source": [
    "## building by own custom data transform"
   ]
  },
  {
   "cell_type": "code",
   "execution_count": 31,
   "metadata": {},
   "outputs": [],
   "source": [
    "# to tensor transform\n",
    "from typing import Any\n",
    "class ToTensor():\n",
    "\n",
    "    def __call__(self,samples):\n",
    "\n",
    "        features,label = samples\n",
    "\n",
    "        features = torch.from_numpy(features)\n",
    "        label = torch.from_numpy(label)\n",
    "\n",
    "        return (features,label)\n",
    "\n",
    "# scale transform\n",
    "class ScaleTransform():\n",
    "\n",
    "    def __init__(self,scale=None) -> None:\n",
    "        self.scale = scale\n",
    "    \n",
    "    def __call__(self,sample) -> Any:\n",
    "        \n",
    "        features,label = sample\n",
    "\n",
    "        if self.scale:\n",
    "\n",
    "            features *= self.scale\n",
    "\n",
    "        return (features,label) \n",
    "\n",
    "\n",
    "composed_transform = torchvision.transforms.Compose(transforms=(ToTensor(),ScaleTransform(5)))\n",
    "        \n",
    "        "
   ]
  },
  {
   "cell_type": "code",
   "execution_count": 32,
   "metadata": {},
   "outputs": [
    {
     "name": "stdout",
     "output_type": "stream",
     "text": [
      "numpy data set: <class 'numpy.ndarray'>\n",
      "features:[1.423e+01 1.710e+00 2.430e+00 1.560e+01 1.270e+02 2.800e+00 3.060e+00\n",
      " 2.800e-01 2.290e+00 5.640e+00 1.040e+00 3.920e+00 1.065e+03]\n"
     ]
    }
   ],
   "source": [
    "# without transform\n",
    "numpy_data_set = WineDataSet()\n",
    "\n",
    "features,label = numpy_data_set[0]\n",
    "\n",
    "print(f\"numpy data set: {type(features)}\")\n",
    "print(f\"features:{features}\")"
   ]
  },
  {
   "cell_type": "code",
   "execution_count": 33,
   "metadata": {},
   "outputs": [
    {
     "name": "stdout",
     "output_type": "stream",
     "text": [
      "numpy data set: <class 'torch.Tensor'>\n",
      "features:tensor([1.4230e+01, 1.7100e+00, 2.4300e+00, 1.5600e+01, 1.2700e+02, 2.8000e+00,\n",
      "        3.0600e+00, 2.8000e-01, 2.2900e+00, 5.6400e+00, 1.0400e+00, 3.9200e+00,\n",
      "        1.0650e+03])\n"
     ]
    }
   ],
   "source": [
    "# with ToTensor transform\n",
    "numpy_data_set = WineDataSet(transform=ToTensor())\n",
    "\n",
    "features,label = numpy_data_set[0]\n",
    "\n",
    "print(f\"numpy data set: {type(features)}\")\n",
    "print(f\"features:{features}\")"
   ]
  },
  {
   "cell_type": "code",
   "execution_count": 34,
   "metadata": {},
   "outputs": [
    {
     "name": "stdout",
     "output_type": "stream",
     "text": [
      "numpy data set: <class 'numpy.ndarray'>\n",
      "features:[7.1149994e+01 8.5500002e+00 1.2150001e+01 7.8000000e+01 6.3500000e+02\n",
      " 1.4000000e+01 1.5299999e+01 1.4000000e+00 1.1450000e+01 2.8199999e+01\n",
      " 5.1999998e+00 1.9600000e+01 5.3250000e+03]\n"
     ]
    }
   ],
   "source": [
    "# with ScaleTransform\n",
    "numpy_data_set = WineDataSet(transform=ScaleTransform(5))\n",
    "\n",
    "features,label = numpy_data_set[0]\n",
    "\n",
    "print(f\"numpy data set: {type(features)}\")\n",
    "print(f\"features:{features}\")"
   ]
  },
  {
   "cell_type": "code",
   "execution_count": 35,
   "metadata": {},
   "outputs": [
    {
     "name": "stdout",
     "output_type": "stream",
     "text": [
      "numpy data set: <class 'torch.Tensor'>\n",
      "features:tensor([7.1150e+01, 8.5500e+00, 1.2150e+01, 7.8000e+01, 6.3500e+02, 1.4000e+01,\n",
      "        1.5300e+01, 1.4000e+00, 1.1450e+01, 2.8200e+01, 5.2000e+00, 1.9600e+01,\n",
      "        5.3250e+03])\n"
     ]
    }
   ],
   "source": [
    "# with compose transform\n",
    "numpy_data_set = WineDataSet(transform=composed_transform)\n",
    "\n",
    "features,label = numpy_data_set[0]\n",
    "\n",
    "print(f\"numpy data set: {type(features)}\")\n",
    "print(f\"features:{features}\")"
   ]
  }
 ],
 "metadata": {
  "interpreter": {
   "hash": "610c9d3786a5bcd122c38aa183fd980592c5db79f4cee84c2a544f8f000107e2"
  },
  "kernelspec": {
   "display_name": "Python 3.9.9 64-bit ('venv': venv)",
   "language": "python",
   "name": "python3"
  },
  "language_info": {
   "codemirror_mode": {
    "name": "ipython",
    "version": 3
   },
   "file_extension": ".py",
   "mimetype": "text/x-python",
   "name": "python",
   "nbconvert_exporter": "python",
   "pygments_lexer": "ipython3",
   "version": "3.9.9"
  },
  "orig_nbformat": 4
 },
 "nbformat": 4,
 "nbformat_minor": 2
}
