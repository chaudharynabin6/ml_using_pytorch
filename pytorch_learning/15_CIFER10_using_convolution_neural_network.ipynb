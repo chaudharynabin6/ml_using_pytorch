{
 "cells": [
  {
   "cell_type": "markdown",
   "metadata": {},
   "source": [
    "# CiFAR-10 dataset\n",
    "\n",
    "more info:\n",
    "\n",
    "https://www.cs.toronto.edu/~kriz/cifar.html\n",
    "\n",
    "We will use convolutional Neural Network\n",
    "\n",
    "watch this video for more detail\n",
    "https://www.youtube.com/watch?v=Y1qxI-Df4Lk\n",
    "\n",
    "## code \n",
    "\n",
    "https://linuxtut.com/en/0c9499a7dc124d6d2f40/"
   ]
  },
  {
   "cell_type": "markdown",
   "metadata": {},
   "source": [
    "![cnn_over_view](./assets/cnn_overview.png)\n",
    "\n",
    "![convolution_filter](./assets/convolution_filter.png)\n",
    "\n",
    "![formula_for_dimension_output](./assets/formula_for_dimension_output.png)\n",
    "\n",
    "\n"
   ]
  },
  {
   "cell_type": "markdown",
   "metadata": {},
   "source": [
    "# imports"
   ]
  },
  {
   "cell_type": "code",
   "execution_count": 1,
   "metadata": {},
   "outputs": [],
   "source": [
    "import torch\n",
    "from torch.utils.data import dataloader\n",
    "import torchvision\n",
    "from torchvision import transforms\n",
    "import torch.nn as nn\n",
    "import torch.nn.functional as F\n",
    "\n",
    "import numpy as np\n",
    "import matplotlib.pyplot as plt"
   ]
  },
  {
   "cell_type": "code",
   "execution_count": 2,
   "metadata": {},
   "outputs": [],
   "source": [
    "# configs\n",
    "\n",
    "device = \"cuda\" if torch.cuda.is_available() else \"cpu\"\n"
   ]
  },
  {
   "cell_type": "code",
   "execution_count": 3,
   "metadata": {},
   "outputs": [],
   "source": [
    "# hyper parameters\n",
    "batch_size = 4\n",
    "\n",
    "kernel_size = 5\n",
    "max_pooling_size = 2\n",
    "stride_for_max_pooling = 2\n",
    "\n"
   ]
  },
  {
   "cell_type": "markdown",
   "metadata": {},
   "source": [
    "# Dataset preparation"
   ]
  },
  {
   "cell_type": "code",
   "execution_count": 4,
   "metadata": {},
   "outputs": [],
   "source": [
    "composed_transform = transforms.Compose([transforms.ToTensor(), transforms.Normalize((0.5, 0.5, 0.5), (0.5, 0.5, 0.5))])"
   ]
  },
  {
   "cell_type": "code",
   "execution_count": 5,
   "metadata": {},
   "outputs": [
    {
     "name": "stdout",
     "output_type": "stream",
     "text": [
      "Files already downloaded and verified\n",
      "Files already downloaded and verified\n"
     ]
    }
   ],
   "source": [
    "train_dataset = torchvision.datasets.CIFAR10(\n",
    "    root=\"./data/cifar/\",\n",
    "    train=True,\n",
    "    download=True,\n",
    "    transform = composed_transform\n",
    ")\n",
    "\n",
    "test_dataset = torchvision.datasets.CIFAR10(\n",
    "    root=\"./data/cifar/\",\n",
    "    train=False,\n",
    "    download=True,\n",
    "    transform = composed_transform\n",
    ")"
   ]
  },
  {
   "cell_type": "code",
   "execution_count": 6,
   "metadata": {},
   "outputs": [
    {
     "data": {
      "text/plain": [
       "((50000, 32, 32, 3), (10000, 32, 32, 3))"
      ]
     },
     "execution_count": 6,
     "metadata": {},
     "output_type": "execute_result"
    }
   ],
   "source": [
    "train_dataset.data.shape,test_dataset.data.shape"
   ]
  },
  {
   "cell_type": "code",
   "execution_count": 7,
   "metadata": {},
   "outputs": [
    {
     "data": {
      "text/plain": [
       "['airplane',\n",
       " 'automobile',\n",
       " 'bird',\n",
       " 'cat',\n",
       " 'deer',\n",
       " 'dog',\n",
       " 'frog',\n",
       " 'horse',\n",
       " 'ship',\n",
       " 'truck']"
      ]
     },
     "execution_count": 7,
     "metadata": {},
     "output_type": "execute_result"
    }
   ],
   "source": [
    "classes = train_dataset.classes\n",
    "classes"
   ]
  },
  {
   "cell_type": "code",
   "execution_count": 8,
   "metadata": {},
   "outputs": [],
   "source": [
    "# data loader\n",
    "train_loader = dataloader.DataLoader(\n",
    "    dataset=train_dataset,\n",
    "    shuffle=True,\n",
    "    batch_size=batch_size\n",
    "    )\n",
    "test_loader = dataloader.DataLoader(\n",
    "    dataset=test_dataset,\n",
    "    shuffle=False,\n",
    "    batch_size=batch_size\n",
    ")"
   ]
  },
  {
   "cell_type": "code",
   "execution_count": 9,
   "metadata": {},
   "outputs": [
    {
     "data": {
      "text/plain": [
       "(torch.Size([4, 3, 32, 32]), torch.Size([4]))"
      ]
     },
     "execution_count": 9,
     "metadata": {},
     "output_type": "execute_result"
    }
   ],
   "source": [
    "all_batch = iter(train_loader)\n",
    "first_batch = all_batch.next()\n",
    "\n",
    "all_input_features_of_batch , targets = first_batch\n",
    "\n",
    "all_input_features_of_batch.shape ,targets.shape\n",
    "\n"
   ]
  },
  {
   "cell_type": "code",
   "execution_count": 10,
   "metadata": {},
   "outputs": [
    {
     "data": {
      "text/plain": [
       "(tensor([[[-0.9922, -1.0000, -1.0000,  ..., -0.5451, -0.3882, -0.4745],\n",
       "          [-0.9922, -1.0000, -1.0000,  ..., -0.7333, -0.7961, -0.7569],\n",
       "          [-1.0000, -1.0000, -1.0000,  ..., -0.9608, -1.0000, -0.9922],\n",
       "          ...,\n",
       "          [-0.3569, -0.4510, -0.6235,  ..., -0.1922, -0.2000,  0.1686],\n",
       "          [-0.2157, -0.2941, -0.3255,  ...,  0.6863,  0.6627,  0.5529],\n",
       "          [-0.1137, -0.1137, -0.0510,  ...,  0.8039,  0.8510,  0.7725]],\n",
       " \n",
       "         [[-0.9922, -1.0000, -1.0000,  ..., -0.4980, -0.2863, -0.4039],\n",
       "          [-0.9922, -1.0000, -1.0000,  ..., -0.6941, -0.7412, -0.7333],\n",
       "          [-1.0000, -1.0000, -1.0000,  ..., -0.9451, -0.9922, -0.9843],\n",
       "          ...,\n",
       "          [-0.4039, -0.5137, -0.7176,  ..., -0.8510, -0.8118, -0.2863],\n",
       "          [-0.2627, -0.3725, -0.4196,  ..., -0.7098, -0.7255, -0.6941],\n",
       "          [-0.1608, -0.1686, -0.1059,  ..., -0.6863, -0.6941, -0.6706]],\n",
       " \n",
       "         [[-0.9922, -1.0000, -1.0000,  ..., -0.2392, -0.0039, -0.1059],\n",
       "          [-0.9922, -1.0000, -1.0000,  ..., -0.4980, -0.5529, -0.5373],\n",
       "          [-1.0000, -1.0000, -1.0000,  ..., -0.8745, -0.9608, -0.9529],\n",
       "          ...,\n",
       "          [-0.7176, -0.8118, -0.8902,  ..., -0.8510, -0.8745, -0.5059],\n",
       "          [-0.6078, -0.7490, -0.7490,  ..., -0.6941, -0.7020, -0.7255],\n",
       "          [-0.4588, -0.5765, -0.6157,  ..., -0.7098, -0.6863, -0.6549]]]),\n",
       " tensor([6, 4, 2, 7]))"
      ]
     },
     "execution_count": 10,
     "metadata": {},
     "output_type": "execute_result"
    }
   ],
   "source": [
    "all_input_features_of_batch[0],targets"
   ]
  },
  {
   "cell_type": "code",
   "execution_count": 11,
   "metadata": {},
   "outputs": [
    {
     "name": "stdout",
     "output_type": "stream",
     "text": [
      "<class 'torch.Tensor'>\n",
      "<class 'numpy.ndarray'>\n",
      "(3, 36, 138)\n",
      "(36, 138, 3)\n"
     ]
    },
    {
     "data": {
      "image/png": "[encoded data removed]",
      "text/plain": [
       "<Figure size 432x288 with 1 Axes>"
      ]
     },
     "metadata": {
      "needs_background": "light"
     },
     "output_type": "display_data"
    },
    {
     "name": "stdout",
     "output_type": "stream",
     "text": [
      "automobile  bird truck airplane\n"
     ]
    }
   ],
   "source": [
    "#Try to display the downloaded image\n",
    "def imshow(img):\n",
    "    #Denormalize\n",
    "    img = img / 2 + 0.5\n",
    "    # torch.From tensor type to numpy.Convert to ndarray type\n",
    "    print(type(img)) # <class 'torch.Tensor'>\n",
    "    npimg = img.numpy()\n",
    "    print(type(npimg))    \n",
    "    #Convert shape from (RGB, vertical, horizontal) to (vertical, horizontal, RGB)\n",
    "    print(npimg.shape)\n",
    "    npimg = np.transpose(npimg, (1, 2, 0))\n",
    "    print(npimg.shape)\n",
    "    #Display image\n",
    "    plt.imshow(npimg)\n",
    "    plt.show()\n",
    "\n",
    "dataiter = iter(train_loader)\n",
    "images, labels = dataiter.next()\n",
    "imshow(torchvision.utils.make_grid(images))\n",
    "print(' '.join('%5s' % classes[labels[j]] for j in range(4)))"
   ]
  },
  {
   "cell_type": "markdown",
   "metadata": {},
   "source": [
    "# Neural Network Design"
   ]
  },
  {
   "cell_type": "code",
   "execution_count": 12,
   "metadata": {},
   "outputs": [
    {
     "name": "stdout",
     "output_type": "stream",
     "text": [
      "input_shape: torch.Size([4, 3, 32, 32])\n",
      "convolution_1: torch.Size([4, 6, 28, 28])\n",
      "max_pool: torch.Size([4, 6, 14, 14])\n",
      "convolution_2: torch.Size([4, 16, 10, 10])\n",
      "max_pool: torch.Size([4, 16, 5, 5])\n"
     ]
    }
   ],
   "source": [
    "all_batch = iter(train_loader)\n",
    "first_batch = all_batch.next()\n",
    "\n",
    "all_input_features_of_batch , targets = first_batch\n",
    "\n",
    "input_channel = 3\n",
    "\n",
    "conv_1_out_channel = 6\n",
    "\n",
    "kernel_size = 5\n",
    "\n",
    "max_pool_kernel_size = 2\n",
    "max_pool_stride = 2\n",
    "\n",
    "conv2_in_channels = conv_1_out_channel\n",
    "conv2_out_channels = 16\n",
    "\n",
    "linear_1_in_dim = 16 * 5 * 5\n",
    "\n",
    "convolution_1 = nn.Conv2d(in_channels=3,out_channels=6,kernel_size=5)\n",
    "\n",
    "max_pool = nn.MaxPool2d(kernel_size=2,stride=2)\n",
    "\n",
    "convolution_2 = nn.Conv2d(in_channels=6,out_channels=16,kernel_size=5)\n",
    "\n",
    "\n",
    "x = all_input_features_of_batch\n",
    "print(f\"input_shape: {x.shape}\")\n",
    "\n",
    "x = convolution_1(x)\n",
    "print(f\"convolution_1: {x.shape}\")\n",
    "\n",
    "x = max_pool(x)\n",
    "print(f\"max_pool: {x.shape}\")\n",
    "\n",
    "x = convolution_2(x)\n",
    "print(f\"convolution_2: {x.shape}\")\n",
    "\n",
    "x = max_pool(x)\n",
    "print(f\"max_pool: {x.shape}\")\n",
    "\n",
    "\n"
   ]
  },
  {
   "cell_type": "code",
   "execution_count": 13,
   "metadata": {},
   "outputs": [],
   "source": [
    "class NeuralNetwork(nn.Module):\n",
    "    \n",
    "    def __init__(self) -> None:\n",
    "        super(NeuralNetwork,self).__init__()\n",
    "\n",
    "        self.convolution_1 = nn.Conv2d(in_channels=input_channel,out_channels=conv_1_out_channel,kernel_size=kernel_size)\n",
    "\n",
    "        self.max_pool = nn.MaxPool2d(kernel_size=max_pool_kernel_size,stride=max_pool_stride)\n",
    "\n",
    "        self.convolution_2 = nn.Conv2d(in_channels=conv2_in_channels,out_channels=conv2_out_channels,kernel_size=kernel_size)\n",
    "\n",
    "        self.linear1 = nn.Linear(in_features= linear_1_in_dim,out_features=100)\n",
    "\n",
    "        self.linear2 = nn.Linear(in_features=100,out_features=84)\n",
    "\n",
    "        self.linear3 = nn.Linear(in_features=84,out_features=10)\n",
    "    \n",
    "\n",
    "    def forward(self, batch_samples):\n",
    "        out = batch_samples\n",
    "\n",
    "        out = self.max_pool(F.relu(self.convolution_1(out))) # convolution layer 1\n",
    "\n",
    "        out = self.max_pool(F.relu(self.convolution_2(out))) # convolution layer 2\n",
    "\n",
    "        out = out.view(-1,linear_1_in_dim) # flattening the dimension \n",
    "\n",
    "        out = F.relu(self.linear1(out)) # first linear layer\n",
    "\n",
    "        out = F.relu(self.linear2(out)) # second linear layer\n",
    "\n",
    "        # don't use relu at last layer because cross Entropy automatically apply that\n",
    "        out = self.linear3(out) # third linear layer\n",
    "\n",
    "        return out\n",
    "\n",
    "\n",
    "model = NeuralNetwork().to(device)\n",
    "\n",
    "        "
   ]
  },
  {
   "cell_type": "markdown",
   "metadata": {},
   "source": [
    "# Criterion and Optimizer"
   ]
  },
  {
   "cell_type": "code",
   "execution_count": 14,
   "metadata": {},
   "outputs": [],
   "source": [
    "criterion = nn.CrossEntropyLoss()\n",
    "\n",
    "learning_rate = 0.01\n",
    "\n",
    "# optimizer = torch.optim.Adam(model.parameters(),lr=learning_rate)\n",
    "optimizer = torch.optim.SGD(model.parameters(), lr=0.001, momentum=0.9)"
   ]
  },
  {
   "cell_type": "markdown",
   "metadata": {},
   "source": [
    "# Training Loop"
   ]
  },
  {
   "cell_type": "code",
   "execution_count": 15,
   "metadata": {},
   "outputs": [
    {
     "name": "stdout",
     "output_type": "stream",
     "text": [
      "[1,  1250] loss: 0.056528\n",
      "[1,  2500] loss: 0.049088\n",
      "[1,  3750] loss: 0.044812\n",
      "[1,  5000] loss: 0.041758\n",
      "[1,  6250] loss: 0.040474\n",
      "[1,  7500] loss: 0.039390\n",
      "[1,  8750] loss: 0.038883\n",
      "[1, 10000] loss: 0.037846\n",
      "[1, 11250] loss: 0.037121\n",
      "[1, 12500] loss: 0.035829\n",
      "[2,  1250] loss: 0.035276\n",
      "[2,  2500] loss: 0.033972\n",
      "[2,  3750] loss: 0.033754\n",
      "[2,  5000] loss: 0.033378\n",
      "[2,  6250] loss: 0.033611\n",
      "[2,  7500] loss: 0.033220\n",
      "[2,  8750] loss: 0.032856\n",
      "[2, 10000] loss: 0.032690\n",
      "[2, 11250] loss: 0.032072\n",
      "[2, 12500] loss: 0.031355\n",
      "Finished Training\n"
     ]
    }
   ],
   "source": [
    "number_of_epoch = 2\n",
    "\n",
    "for epoch in range(number_of_epoch):\n",
    "    running_loss = 0.0\n",
    "    for i , (batch_inputs,label) in enumerate(train_loader):\n",
    "        optimizer.zero_grad()\n",
    "\n",
    "        batch_inputs = batch_inputs.to(device)\n",
    "        label = label.to(device)\n",
    "        \n",
    "        y_predict = model(batch_inputs)\n",
    "\n",
    "        loss = criterion(y_predict,label)\n",
    "\n",
    "        loss.backward()\n",
    "\n",
    "        optimizer.step()\n",
    "\n",
    "\n",
    "        running_loss += loss.item()\n",
    "        if (i+1) %  1250 == 0:\n",
    "            print('[%d, %5d] loss: %.6f' % (epoch + 1, i + 1, running_loss / train_dataset.data.shape[0]))\n",
    "            running_loss = 0.0\n",
    "print('Finished Training')\n",
    "\n"
   ]
  },
  {
   "cell_type": "markdown",
   "metadata": {},
   "source": [
    "# Calculating Accuray"
   ]
  },
  {
   "cell_type": "code",
   "execution_count": 16,
   "metadata": {},
   "outputs": [
    {
     "name": "stdout",
     "output_type": "stream",
     "text": [
      "Accuracy of the network on the 10000 test images: 55 %\n"
     ]
    }
   ],
   "source": [
    "correct = 0\n",
    "total = 0\n",
    "#Calculate without remembering the gradient (without learning)\n",
    "with torch.no_grad():\n",
    "    for data in test_loader:\n",
    "        images, labels = data\n",
    "        outputs = model(images)\n",
    "        _, predicted = torch.max(outputs.data, 1)\n",
    "        total += labels.size(0)\n",
    "        correct += (predicted == labels).sum().item()\n",
    "print('Accuracy of the network on the 10000 test images: %d %%' % (100 * correct / total))"
   ]
  },
  {
   "cell_type": "markdown",
   "metadata": {},
   "source": [
    "# Accuracy for each Classes"
   ]
  },
  {
   "cell_type": "code",
   "execution_count": 17,
   "metadata": {},
   "outputs": [
    {
     "name": "stdout",
     "output_type": "stream",
     "text": [
      "Accuracy of airplane : 55 %\n",
      "Accuracy of automobile : 65 %\n",
      "Accuracy of  bird : 44 %\n",
      "Accuracy of   cat : 55 %\n",
      "Accuracy of  deer : 46 %\n",
      "Accuracy of   dog : 36 %\n",
      "Accuracy of  frog : 49 %\n",
      "Accuracy of horse : 62 %\n",
      "Accuracy of  ship : 74 %\n",
      "Accuracy of truck : 69 %\n"
     ]
    }
   ],
   "source": [
    "class_correct = list(0. for i in range(10))\n",
    "class_total = list(0. for i in range(10))\n",
    "with torch.no_grad():\n",
    "    for data in test_loader:\n",
    "        images, labels = data\n",
    "        outputs = model(images)\n",
    "        _, predicted = torch.max(outputs, 1)\n",
    "        c = (predicted == labels).squeeze()\n",
    "        for i in range(4):\n",
    "            label = labels[i]\n",
    "            class_correct[label] += c[i].item()\n",
    "            class_total[label] += 1\n",
    "for i in range(10):\n",
    "    print('Accuracy of %5s : %2d %%' % (classes[i], 100 * class_correct[i] / class_total[i]))"
   ]
  }
 ],
 "metadata": {
  "interpreter": {
   "hash": "610c9d3786a5bcd122c38aa183fd980592c5db79f4cee84c2a544f8f000107e2"
  },
  "kernelspec": {
   "display_name": "Python 3.9.9 64-bit ('venv': venv)",
   "language": "python",
   "name": "python3"
  },
  "language_info": {
   "codemirror_mode": {
    "name": "ipython",
    "version": 3
   },
   "file_extension": ".py",
   "mimetype": "text/x-python",
   "name": "python",
   "nbconvert_exporter": "python",
   "pygments_lexer": "ipython3",
   "version": "3.9.9"
  },
  "orig_nbformat": 4
 },
 "nbformat": 4,
 "nbformat_minor": 2
}
