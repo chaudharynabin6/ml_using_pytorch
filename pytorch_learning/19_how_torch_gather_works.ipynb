{
 "cells": [
  {
   "cell_type": "code",
   "execution_count": 1,
   "metadata": {},
   "outputs": [],
   "source": [
    "import torch"
   ]
  },
  {
   "cell_type": "code",
   "execution_count": 11,
   "metadata": {},
   "outputs": [
    {
     "data": {
      "text/plain": [
       "(torch.Size([0]), torch.Size([4, 0]), torch.Size([4, 3, 0]))"
      ]
     },
     "execution_count": 11,
     "metadata": {},
     "output_type": "execute_result"
    }
   ],
   "source": [
    "d1 = torch.tensor(\n",
    "    [\n",
    "  \n",
    "    ],\n",
    "\n",
    ")\n",
    "\n",
    "d2 = torch.tensor(\n",
    "    [\n",
    "        [],\n",
    "        [],\n",
    "        [],\n",
    "        [],\n",
    "    ]\n",
    ")\n",
    "d3 = torch.tensor(\n",
    "    [\n",
    "        [\n",
    "            [],\n",
    "            [],\n",
    "            [],\n",
    "        ],\n",
    "        [\n",
    "            [],\n",
    "            [],\n",
    "            []\n",
    "        ],\n",
    "        [\n",
    "            [],\n",
    "            [],\n",
    "            []\n",
    "        ],\n",
    "        [\n",
    "            [],\n",
    "            [],\n",
    "            []\n",
    "        ],\n",
    "    ]\n",
    ")\n",
    "\n",
    "d1.shape,d2.shape,d3.shape"
   ]
  },
  {
   "cell_type": "code",
   "execution_count": 12,
   "metadata": {},
   "outputs": [
    {
     "data": {
      "text/plain": [
       "(torch.Size([4]), torch.Size([4, 3]), torch.Size([4, 3, 5]))"
      ]
     },
     "execution_count": 12,
     "metadata": {},
     "output_type": "execute_result"
    }
   ],
   "source": [
    "d1 = torch.tensor(\n",
    "    [\n",
    "        1,\n",
    "        2,\n",
    "        3,\n",
    "        4\n",
    "    ],\n",
    "\n",
    ")\n",
    "\n",
    "d2 = torch.tensor(\n",
    "    [\n",
    "        [1,2,3],\n",
    "        [4,5,6],\n",
    "        [7,8,9],\n",
    "        [10,11,12],\n",
    "    ]\n",
    ")\n",
    "d3 = torch.tensor(\n",
    "    [\n",
    "        [\n",
    "            [1,2,3,4,5],\n",
    "            [6,7,8,9,10],\n",
    "            [11,12,13,14,15],\n",
    "        ],\n",
    "        [\n",
    "            [16,17,18,19,20],\n",
    "            [21,22,23,24,25],\n",
    "            [26,27,28,29,30]\n",
    "        ],\n",
    "        [\n",
    "            [31,32,33,34,35],\n",
    "            [36,37,38,39,40],\n",
    "            [41,32,43,44,45]\n",
    "        ],\n",
    "        [\n",
    "            [46,47,48,49,50],\n",
    "            [51,52,53,54,55],\n",
    "            [56,57,58,59,60]\n",
    "        ],\n",
    "    ]\n",
    ")\n",
    "\n",
    "d1.shape,d2.shape,d3.shape"
   ]
  },
  {
   "cell_type": "markdown",
   "metadata": {},
   "source": [
    "# 1-d tensor"
   ]
  },
  {
   "cell_type": "code",
   "execution_count": 18,
   "metadata": {},
   "outputs": [
    {
     "data": {
      "text/plain": [
       "tensor([1, 4, 2, 3])"
      ]
     },
     "execution_count": 18,
     "metadata": {},
     "output_type": "execute_result"
    }
   ],
   "source": [
    "# 1-d tensor\n",
    "\n",
    "d1 = torch.tensor(\n",
    "    [\n",
    "        1,\n",
    "        2,\n",
    "        3,\n",
    "        4\n",
    "    ],\n",
    "\n",
    ")\n",
    "index = torch.tensor(\n",
    "    [\n",
    "        0,\n",
    "        3,\n",
    "        1,\n",
    "        2\n",
    "    ]\n",
    ")\n",
    "# out = torch.gather(d1,1,index) IndexError: Dimension out of range (expected to be in range of [-1, 0], but got 1)\n",
    "out = torch.gather(d1,0,index)\n",
    "out"
   ]
  },
  {
   "cell_type": "markdown",
   "metadata": {},
   "source": [
    "# 2d -tensor"
   ]
  },
  {
   "cell_type": "code",
   "execution_count": 28,
   "metadata": {},
   "outputs": [
    {
     "data": {
      "text/plain": [
       "(tensor([[1, 3]]), tensor([[ 4, 11]]))"
      ]
     },
     "execution_count": 28,
     "metadata": {},
     "output_type": "execute_result"
    }
   ],
   "source": [
    "# 2-d tensor gathe working\n",
    "d2 = torch.tensor(\n",
    "    [  # V V V \n",
    "        [1,2,3],\n",
    "        [4,5,6],\n",
    "        [7,8,9],\n",
    "        [10,11,12],\n",
    "    ]\n",
    ")\n",
    "\n",
    "index_0d = torch.tensor(\n",
    "    [      \n",
    "        # v  v \n",
    "        # [0,0], #[1,2]\n",
    "        # [0,1], #[1,5]\n",
    "        # [0,2], #[1,8]\n",
    "        # [0,3],\n",
    "        # [1,0],\n",
    "        # [1,1],\n",
    "        # [1,2],\n",
    "        [1,3], # [4,11]\n",
    "        # [2,0],\n",
    "        # [2,1],\n",
    "        # [2,2],\n",
    "        # [2,3],\n",
    "        # [3,0],\n",
    "        # [3,1],\n",
    "        # [3,2],\n",
    "        # [3,3]\n",
    "    ]\n",
    ")\n",
    " # RuntimeError: Index tensor must have the same number of dimensions as input tensor\n",
    "# out = torch.gather(d2,0,index)\n",
    "# you cannot give 1-d index instead of 2d for 2d tensor how ever you can change the axis to zero or one as like in max  \n",
    "out = torch.gather(d2,0,index_0d)\n",
    "index_0d,out"
   ]
  },
  {
   "cell_type": "code",
   "execution_count": 34,
   "metadata": {},
   "outputs": [
    {
     "data": {
      "text/plain": [
       "(tensor([[0, 0, 0],\n",
       "         [1, 3, 1]]),\n",
       " tensor([[ 1,  2,  3],\n",
       "         [ 4, 11,  6]]))"
      ]
     },
     "execution_count": 34,
     "metadata": {},
     "output_type": "execute_result"
    }
   ],
   "source": [
    "# 2-d tensor gathe working\n",
    "d2 = torch.tensor(\n",
    "    [   # v v v\n",
    "        [1,2,3],\n",
    "        [4,5,6],\n",
    "        [7,8,9],\n",
    "        [10,11,12],\n",
    "    ]\n",
    ")\n",
    "\n",
    "index_0d = torch.tensor(\n",
    "    [\n",
    "        [0,0,0], #[1,2] # miss match of tensor cause the index error so cannot be [0,0] instead must be [0,0,0]\n",
    "        # [0,1], #[1,5]\n",
    "        # [0,2], #[1,8]\n",
    "        # [0,3],\n",
    "        # [1,0],\n",
    "        # [1,1],\n",
    "        # [1,2],\n",
    "        [1,3,1], # [4,11,6]\n",
    "        # [2,0],\n",
    "        # [2,1],\n",
    "        # [2,2],\n",
    "        # [2,3],\n",
    "        # [3,0],\n",
    "        # [3,1],\n",
    "        # [3,2],\n",
    "        # [3,3]\n",
    "    ]\n",
    ")\n",
    " # RuntimeError: Index tensor must have the same number of dimensions as input tensor\n",
    "# out = torch.gather(d2,0,index)\n",
    "# you cannot give 1-d index instead of 2d for 2d tensor how ever you can change the axis to zero or one as like in max  \n",
    "out = torch.gather(d2,0,index_0d)\n",
    "index_0d,out"
   ]
  },
  {
   "cell_type": "code",
   "execution_count": 38,
   "metadata": {},
   "outputs": [
    {
     "data": {
      "text/plain": [
       "(tensor([[0, 1, 2],\n",
       "         [0, 1, 2],\n",
       "         [0, 1, 2],\n",
       "         [2, 1, 0]]),\n",
       " tensor([[ 1,  2,  3],\n",
       "         [ 4,  5,  6],\n",
       "         [ 7,  8,  9],\n",
       "         [12, 11, 10]]))"
      ]
     },
     "execution_count": 38,
     "metadata": {},
     "output_type": "execute_result"
    }
   ],
   "source": [
    "# 2-d tensor gathe working\n",
    "d2 = torch.tensor(\n",
    "    [\n",
    "        [1,2,3], # < \n",
    "        [4,5,6], # <\n",
    "        [7,8,9], # <\n",
    "        [10,11,12], # <\n",
    "    ]\n",
    ")\n",
    "\n",
    "index_1d = torch.tensor(\n",
    "    [\n",
    "        [0,1,2], # by default the this indicates to seach in first row of d2 tensor\n",
    "        [0,1,2], # [4,5,6]\n",
    "        [0,1,2], # [7,8,9]\n",
    "        [2,1,0], # [12,11,10]\n",
    "    ]\n",
    ")\n",
    " # RuntimeError: Index tensor must have the same number of dimensions as input tensor\n",
    "# out = torch.gather(d2,0,index)\n",
    "# you cannot give 1-d index instead of 2d for 2d tensor how ever you can change the axis to zero or one as like in max  \n",
    "out = torch.gather(d2,1,index_1d)\n",
    "index_0d,out"
   ]
  },
  {
   "cell_type": "markdown",
   "metadata": {},
   "source": [
    "# 3d-tensor"
   ]
  },
  {
   "cell_type": "code",
   "execution_count": 54,
   "metadata": {},
   "outputs": [
    {
     "data": {
      "text/plain": [
       "tensor([[[ 1, 17, 33, 49],\n",
       "         [ 6, 22, 38, 54],\n",
       "         [11, 27, 43, 59]]])"
      ]
     },
     "execution_count": 54,
     "metadata": {},
     "output_type": "execute_result"
    }
   ],
   "source": [
    "# 3d -tensor\n",
    "\n",
    "d3 = torch.tensor(\n",
    "    [\n",
    "        [\n",
    "            [1,2,3,4,5], \n",
    "            [6,7,8,9,10],\n",
    "            [11,12,13,14,15],\n",
    "        ],\n",
    "        [\n",
    "            [16,17,18,19,20],\n",
    "            [21,22,23,24,25],\n",
    "            [26,27,28,29,30]\n",
    "        ],\n",
    "        [\n",
    "            [31,32,33,34,35],\n",
    "            [36,37,38,39,40],\n",
    "            [41,32,43,44,45]\n",
    "        ],\n",
    "        [\n",
    "            [46,47,48,49,50],\n",
    "            [51,52,53,54,55],\n",
    "            [56,57,58,59,60]\n",
    "        ],\n",
    "    ]\n",
    ")\n",
    "\n",
    "index_0d = torch.tensor(\n",
    "    [\n",
    "        [\n",
    "            [0, # 1st row of first outer2d ,and 1st row inner 3d with index 0\n",
    "            1, # 2nc row of first outer 2d and  1st row of inner 3d with index 1\n",
    "            2, # 3rd row of firs outer 2d and 1st row of inner 3d row with index 2\n",
    "            3],\n",
    "            [0, #  1st row of outer 2d , and 2nd row of inner  3d  with index 0\n",
    "            1, # 2nd row of outer 2d and  2nd row of inner 3d with index 1\n",
    "            2,\n",
    "            3],\n",
    "            [0,\n",
    "            1,\n",
    "            2,\n",
    "            3],\n",
    "            # [0, # 1st row of outer 2d and 4th row of innner 3d with index 0 which is not available\n",
    "            # 1,\n",
    "            # 2,\n",
    "            # 3\n",
    "            # ]\n",
    "        ],\n",
    "        # [ [0,1,2,3] # wrong indexing\n",
    "\n",
    "        # ],\n",
    "        # [\n",
    "\n",
    "        # ],\n",
    "    ]\n",
    ")\n",
    "\n",
    "out = torch.gather(d3,0,index_0d)\n",
    "\n",
    "out"
   ]
  },
  {
   "cell_type": "code",
   "execution_count": 55,
   "metadata": {},
   "outputs": [
    {
     "data": {
      "text/plain": [
       "tensor([[[ 1, 17, 33],\n",
       "         [ 6, 22, 38],\n",
       "         [11, 27, 43]]])"
      ]
     },
     "execution_count": 55,
     "metadata": {},
     "output_type": "execute_result"
    }
   ],
   "source": [
    "# 3d -tensor\n",
    "\n",
    "d3 = torch.tensor(\n",
    "    [\n",
    "        [\n",
    "            [1,2,3,4,5], \n",
    "            [6,7,8,9,10],\n",
    "            [11,12,13,14,15],\n",
    "        ],\n",
    "        [\n",
    "            [16,17,18,19,20],\n",
    "            [21,22,23,24,25],\n",
    "            [26,27,28,29,30]\n",
    "        ],\n",
    "        [\n",
    "            [31,32,33,34,35],\n",
    "            [36,37,38,39,40],\n",
    "            [41,32,43,44,45]\n",
    "        ],\n",
    "        [\n",
    "            [46,47,48,49,50],\n",
    "            [51,52,53,54,55],\n",
    "            [56,57,58,59,60]\n",
    "        ],\n",
    "    ]\n",
    ")\n",
    "\n",
    "index_0d = torch.tensor(\n",
    "    [\n",
    "        [\n",
    "            [0, # 1st row of first outer2d ,and 1st row inner 3d with index 0 \n",
    "            1, # 2nc row of first outer 2d and  1st row of inner 3d with index 1\n",
    "            2, # 3rd row of firs outer 2d and 1st row of inner 3d row with index 2\n",
    "            ],\n",
    "            [0, #  1st row of outer 2d , and 2nd row of inner  3d  with index 0\n",
    "            1, # 2nd row of outer 2d and  2nd row of inner 3d with index 1\n",
    "            2,\n",
    "            ],\n",
    "            [0, # we can decrease indexing to limit the number of column or index we want\n",
    "            1,\n",
    "            2,\n",
    "            ],\n",
    "            # [0, # 1st row of outer 2d and 4th row of innner 3d with index 0 which is not available\n",
    "            # 1,\n",
    "            # 2,\n",
    "            # 3\n",
    "            # ]\n",
    "        ],\n",
    "        # [ [0,1,2,3] # wrong indexing\n",
    "\n",
    "        # ],\n",
    "        # [\n",
    "\n",
    "        # ],\n",
    "    ]\n",
    ")\n",
    "\n",
    "out = torch.gather(d3,0,index_0d)\n",
    "\n",
    "out"
   ]
  },
  {
   "cell_type": "code",
   "execution_count": 59,
   "metadata": {},
   "outputs": [
    {
     "data": {
      "text/plain": [
       "tensor([[[ 1,  7, 13],\n",
       "         [ 1,  7, 13],\n",
       "         [ 1,  7, 13],\n",
       "         [ 1,  7, 13]],\n",
       "\n",
       "        [[16, 22, 28],\n",
       "         [16, 22, 28],\n",
       "         [16, 22, 28],\n",
       "         [16, 22, 28]]])"
      ]
     },
     "execution_count": 59,
     "metadata": {},
     "output_type": "execute_result"
    }
   ],
   "source": [
    "# 3d -tensor\n",
    "\n",
    "d3 = torch.tensor(\n",
    "    [\n",
    "        [\n",
    "            [1,2,3,4,5], \n",
    "            [6,7,8,9,10],\n",
    "            [11,12,13,14,15],\n",
    "        ],\n",
    "        [\n",
    "            [16,17,18,19,20],\n",
    "            [21,22,23,24,25],\n",
    "            [26,27,28,29,30]\n",
    "        ],\n",
    "        [\n",
    "            [31,32,33,34,35],\n",
    "            [36,37,38,39,40],\n",
    "            [41,32,43,44,45]\n",
    "        ],\n",
    "        [\n",
    "            [46,47,48,49,50],\n",
    "            [51,52,53,54,55],\n",
    "            [56,57,58,59,60]\n",
    "        ],\n",
    "    ]\n",
    ")\n",
    "\n",
    "index_1d = torch.tensor(\n",
    "    [\n",
    "        [\n",
    "            [0,1,2,], # always chooose from the 1st row of outer 2d and follow the principle of 1d tensor in the whole inner 3d tensor\n",
    "            [0,1,2,],\n",
    "            [0,1,2,],\n",
    "            [0,1,2]\n",
    "        ],\n",
    "        [ \n",
    "            [0,1,2],\n",
    "            [0,1,2],\n",
    "            [0,1,2],\n",
    "            [0,1,2]\n",
    "        ],\n",
    "        # [\n",
    "\n",
    "        # ],\n",
    "        # [\n",
    "            \n",
    "        # ]\n",
    "    ]\n",
    ")\n",
    "\n",
    "out = torch.gather(d3,1,index_1d)\n",
    "\n",
    "out"
   ]
  },
  {
   "cell_type": "code",
   "execution_count": 63,
   "metadata": {},
   "outputs": [
    {
     "data": {
      "text/plain": [
       "tensor([[[ 1,  2,  3,  4,  5],\n",
       "         [ 6,  7,  8,  9, 10],\n",
       "         [11, 12, 13, 14, 15]]])"
      ]
     },
     "execution_count": 63,
     "metadata": {},
     "output_type": "execute_result"
    }
   ],
   "source": [
    "# 3d tensor\n",
    "d3 = torch.tensor(\n",
    "    [\n",
    "        [\n",
    "            [1,2,3,4,5],  # < select from this with give index \n",
    "            [6,7,8,9,10], # < select from this with given index\n",
    "            [11,12,13,14,15],\n",
    "        ],\n",
    "        [\n",
    "            [16,17,18,19,20],\n",
    "            [21,22,23,24,25],\n",
    "            [26,27,28,29,30]\n",
    "        ],\n",
    "        [\n",
    "            [31,32,33,34,35],\n",
    "            [36,37,38,39,40],\n",
    "            [41,32,43,44,45]\n",
    "        ],\n",
    "        [\n",
    "            [46,47,48,49,50],\n",
    "            [51,52,53,54,55],\n",
    "            [56,57,58,59,60]\n",
    "        ],\n",
    "    ]\n",
    ")\n",
    "\n",
    "index_2d = torch.tensor(\n",
    "    [\n",
    "        [\n",
    "            [0,1,2,3,4], \n",
    "            [0,1,2,3,4],\n",
    "            [0,1,2,3,4],\n",
    "        ]\n",
    "    ]\n",
    ")\n",
    "\n",
    "out = torch.gather(d3,2,index_2d)\n",
    "\n",
    "out"
   ]
  },
  {
   "cell_type": "code",
   "execution_count": 103,
   "metadata": {},
   "outputs": [
    {
     "data": {
      "text/plain": [
       "tensor([[[ 1.,  2.,  3.,  4.,  5.],\n",
       "         [11., 12., 13., 14., 15.]],\n",
       "\n",
       "        [[16., 17., 18., 19., 20.],\n",
       "         [21., 22., 23., 24., 25.]],\n",
       "\n",
       "        [[31., 32., 33., 34., 35.],\n",
       "         [41., 32., 43., 44., 45.]],\n",
       "\n",
       "        [[51., 52., 53., 54., 55.],\n",
       "         [56., 57., 58., 59., 60.]]])"
      ]
     },
     "execution_count": 103,
     "metadata": {},
     "output_type": "execute_result"
    }
   ],
   "source": [
    "# 3d tensor\n",
    "d3 = torch.tensor(\n",
    "    [\n",
    "        [\n",
    "            [1,2,3,4,5],  # < select from this with give index \n",
    "            [6,7,8,9,10], # < select from this with given index\n",
    "            [11,12,13,14,15],\n",
    "        ],\n",
    "        [\n",
    "            [16,17,18,19,20],\n",
    "            [21,22,23,24,25],\n",
    "            [26,27,28,29,30]\n",
    "        ],\n",
    "        [\n",
    "            [31,32,33,34,35],\n",
    "            [36,37,38,39,40],\n",
    "            [41,32,43,44,45]\n",
    "        ],\n",
    "        [\n",
    "            [46,47,48,49,50],\n",
    "            [51,52,53,54,55],\n",
    "            [56,57,58,59,60]\n",
    "        ],\n",
    "    ]\n",
    ")\n",
    "\n",
    "index = torch.tensor(\n",
    "    [\n",
    "        [0,2],\n",
    "        [0,1],\n",
    "        [0,2],\n",
    "        [1,2],\n",
    "        \n",
    "    ]\n",
    "    )\n",
    "\n",
    "out = torch.ones((4,2,5))\n",
    "for i in range(d3.shape[0]):\n",
    "    # print(d3[i].index_select(0,index[i]))\n",
    "    out[i] =  d3[i].index_select(0,index[i])\n",
    "\n",
    "out "
   ]
  },
  {
   "cell_type": "markdown",
   "metadata": {},
   "source": [
    "# finnally problem"
   ]
  },
  {
   "cell_type": "code",
   "execution_count": 64,
   "metadata": {},
   "outputs": [],
   "source": [
    "masked_pos = torch.tensor(\n",
    "    [\n",
    "        [ 9,  5,  2,  0,  0],\n",
    "        [ 9, 13, 12,  0,  0],\n",
    "        [ 4, 13,  1,  0,  0],\n",
    "        [11, 15,  4,  0,  0],\n",
    "        [ 7,  0,  0,  0,  0],\n",
    "        [ 6,  0,  0,  0,  0]\n",
    "    ]\n",
    ")\n",
    "\n",
    "# solution: \n",
    "\n",
    "    # for i in range(output.shape[0]):\n",
    "    #     h_masked[i] = output[i].index_select(0,masked_pos[i])"
   ]
  }
 ],
 "metadata": {
  "interpreter": {
   "hash": "610c9d3786a5bcd122c38aa183fd980592c5db79f4cee84c2a544f8f000107e2"
  },
  "kernelspec": {
   "display_name": "Python 3.9.9 ('venv': venv)",
   "language": "python",
   "name": "python3"
  },
  "language_info": {
   "codemirror_mode": {
    "name": "ipython",
    "version": 3
   },
   "file_extension": ".py",
   "mimetype": "text/x-python",
   "name": "python",
   "nbconvert_exporter": "python",
   "pygments_lexer": "ipython3",
   "version": "3.9.9"
  },
  "orig_nbformat": 4
 },
 "nbformat": 4,
 "nbformat_minor": 2
}
