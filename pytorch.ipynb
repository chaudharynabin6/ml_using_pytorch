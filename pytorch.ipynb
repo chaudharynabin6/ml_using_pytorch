{
 "cells": [
  {
   "cell_type": "markdown",
   "id": "731aaa3f",
   "metadata": {},
   "source": [
    "# pytorch\n",
    "## what is pytorch?\n",
    "PyTorch is an optimized tensor library primarily used for Deep Learning applications using GPUs and CPUs. It is an open-source machine learning library for Python, mainly developed by the Facebook AI Research team. It is one of the widely used Machine learning libraries, others being TensorFlow and Keras.\n",
    "\n",
    "https://www.analyticsvidhya.com/blog/2021/04/a-gentle-introduction-to-pytorch-library/"
   ]
  },
  {
   "cell_type": "code",
   "execution_count": 12,
   "id": "b0018e9a",
   "metadata": {},
   "outputs": [],
   "source": [
    "def info(object, spacing=20, collapse=2):\n",
    "    methodList = [method for method in dir(object) if callable(getattr(object, method))]\n",
    "    processFunc = collapse and (lambda s: \" \".join(s.split())) or (lambda s: s)\n",
    "    print( \"\\n\".join([\"%s %s\" %\n",
    "                      (method.ljust(spacing),\n",
    "                       processFunc(str(getattr(object, method).__doc__)))\n",
    "                     for method in methodList]))"
   ]
  },
  {
   "cell_type": "code",
   "execution_count": 1,
   "id": "a93202b3",
   "metadata": {},
   "outputs": [],
   "source": [
    "from torch import nn\n",
    "import torch\n",
    "class CustomNeuralNet(nn.Module):\n",
    "\n",
    "  def __init__(self):\n",
    "    super(CustomNeuralNet,self).__init__()\n",
    "    self.flatten = nn.Flatten()\n",
    "\n",
    "  \n",
    "  def forward(self,inputs):\n",
    "    flatten_tensor_output = self.flatten(inputs)\n",
    "\n",
    "    return flatten_tensor_output\n"
   ]
  },
  {
   "cell_type": "code",
   "execution_count": 2,
   "id": "ef88c430",
   "metadata": {},
   "outputs": [
    {
     "name": "stdout",
     "output_type": "stream",
     "text": [
      "tensor([[[0.7740, 0.5115],\n",
      "         [0.7316, 0.5149]],\n",
      "\n",
      "        [[0.5371, 0.6724],\n",
      "         [0.1895, 0.4456]]])\n",
      "tensor([[0.7740, 0.5115, 0.7316, 0.5149],\n",
      "        [0.5371, 0.6724, 0.1895, 0.4456]])\n"
     ]
    }
   ],
   "source": [
    "input = torch.rand(2,2,2)\n",
    "\n",
    "# pass argument inside the CustomNeuraNet which will be taken by __init__ for configuration\n",
    "model = CustomNeuralNet()\n",
    "\n",
    "model_ouput = model(input)\n",
    "print(input)\n",
    "print(model_ouput)"
   ]
  },
  {
   "cell_type": "code",
   "execution_count": 3,
   "id": "bbcba31c",
   "metadata": {},
   "outputs": [
    {
     "name": "stdout",
     "output_type": "stream",
     "text": [
      "----------------------------------------------------------------\n",
      "        Layer (type)               Output Shape         Param #\n",
      "================================================================\n",
      "           Flatten-1                  [200, 30]               0\n"
     ]
    }
   ],
   "source": [
    "from torchsummary import summary\n",
    "# batch size no affect on each input size\n",
    "try:\n",
    "    summary(model=model,input_size=((2,3,5)),batch_size=200)\n",
    "\n",
    "except Exception as e:\n",
    "    pass"
   ]
  },
  {
   "cell_type": "code",
   "execution_count": 4,
   "id": "b36221c3",
   "metadata": {},
   "outputs": [
    {
     "name": "stdout",
     "output_type": "stream",
     "text": [
      "CustomNeuralNet(\n",
      "  (flatten): Flatten(start_dim=1, end_dim=-1)\n",
      ")\n"
     ]
    }
   ],
   "source": [
    "print(model)"
   ]
  },
  {
   "cell_type": "code",
   "execution_count": null,
   "id": "2ad776b3",
   "metadata": {},
   "outputs": [],
   "source": []
  },
  {
   "cell_type": "code",
   "execution_count": 43,
   "id": "35ffa542",
   "metadata": {},
   "outputs": [
    {
     "name": "stdout",
     "output_type": "stream",
     "text": [
      "shape: torch.Size([5])\n"
     ]
    }
   ],
   "source": [
    "t = [1,2,3,4,5]\n",
    "t = torch.tensor(t,dtype=torch.float32)\n",
    "print(f\"shape: {t.shape}\")\n",
    "# print(f\"rank: {torch.linalg.matrix_rank(t)}\") #ERROR:  only works with matrix and float"
   ]
  },
  {
   "cell_type": "code",
   "execution_count": null,
   "id": "530898bd",
   "metadata": {},
   "outputs": [],
   "source": []
  },
  {
   "cell_type": "code",
   "execution_count": 28,
   "id": "c9adc569",
   "metadata": {},
   "outputs": [
    {
     "name": "stdout",
     "output_type": "stream",
     "text": [
      "shape: torch.Size([4, 3])\n",
      "rank: 2\n"
     ]
    }
   ],
   "source": [
    "t = [\n",
    "    [0,1,2],\n",
    "    [1,2,3],\n",
    "    [4,5,6],\n",
    "    [7,8,9]\n",
    "    ]\n",
    "t = torch.tensor(t,dtype=float)\n",
    "print(f\"shape: {t.shape}\")\n",
    "print(f\"rank: {torch.linalg.matrix_rank(t)}\")"
   ]
  },
  {
   "cell_type": "code",
   "execution_count": 44,
   "id": "5f909237",
   "metadata": {},
   "outputs": [
    {
     "name": "stdout",
     "output_type": "stream",
     "text": [
      "tensor: tensor([[[ 1.,  2.,  3.],\n",
      "         [ 2.,  3.,  4.],\n",
      "         [ 3.,  4.,  5.],\n",
      "         [12., 24., 53.]],\n",
      "\n",
      "        [[ 1.,  3.,  2.],\n",
      "         [10.,  3.,  5.],\n",
      "         [10., 13., 13.],\n",
      "         [32., 53., 45.]],\n",
      "\n",
      "        [[ 1.,  3.,  4.],\n",
      "         [11.,  5., 10.],\n",
      "         [16., 33., 53.],\n",
      "         [34., 53., 34.]],\n",
      "\n",
      "        [[ 2.,  6.,  6.],\n",
      "         [69., 94.,  1.],\n",
      "         [16., 78., 43.],\n",
      "         [34., 56., 89.]],\n",
      "\n",
      "        [[ 0., 34.,  4.],\n",
      "         [48.,  9., 14.],\n",
      "         [16., 34., 54.],\n",
      "         [ 3., 32., 32.]]])\n",
      "shape: torch.Size([5, 4, 3])\n",
      "rank: tensor([3, 3, 3, 3, 3])\n",
      "device:cpu\n",
      "Datatype of tensor: torch.float32\n",
      "size:torch.Size([5, 4, 3])\n"
     ]
    }
   ],
   "source": [
    "t = [\n",
    "    [[1,2,3],[2,3,4],[3,4,5],[12,24,53]],\n",
    "    [[1,3,2],[10,3,5],[10,13,13],[32,53,45]],\n",
    "    [[1,3,4],[11,5,10],[16,33,53],[34,53,34]],\n",
    "    [[2,6,6],[69,94,1],[16,78,43],[34,56,89]],\n",
    "    [[0,34,4],[48,9,14],[16,34,54],[3,32,32]],\n",
    "    ]\n",
    "# t = torch.tensor(data=t,dtype=torch.float,device=\"cuda\")\n",
    "t = torch.tensor(data=t,dtype=torch.float,device=\"cpu\")\n",
    "\n",
    "print(f\"tensor: {t}\")\n",
    "print(f\"shape: {t.shape}\")\n",
    "print(f\"rank: {torch.linalg.matrix_rank(t)}\")\n",
    "print(f\"device:{t.device}\")\n",
    "print(f\"Datatype of tensor: {t.dtype}\")\n",
    "print(f\"size:{t.size()}\")"
   ]
  },
  {
   "cell_type": "code",
   "execution_count": 7,
   "id": "6e5a9068",
   "metadata": {},
   "outputs": [
    {
     "data": {
      "text/plain": [
       "torch.Size([3, 3])"
      ]
     },
     "execution_count": 7,
     "metadata": {},
     "output_type": "execute_result"
    }
   ],
   "source": [
    "t.shape"
   ]
  },
  {
   "cell_type": "markdown",
   "id": "93cdc05b",
   "metadata": {},
   "source": [
    "Tensors on the CPU and NumPy arrays can share their underlying memory locations, and changing one will change the other."
   ]
  },
  {
   "cell_type": "code",
   "execution_count": null,
   "id": "ea3bb7bc",
   "metadata": {},
   "outputs": [],
   "source": []
  }
 ],
 "metadata": {
  "kernelspec": {
   "display_name": "Python 3 (ipykernel)",
   "language": "python",
   "name": "python3"
  },
  "language_info": {
   "codemirror_mode": {
    "name": "ipython",
    "version": 3
   },
   "file_extension": ".py",
   "mimetype": "text/x-python",
   "name": "python",
   "nbconvert_exporter": "python",
   "pygments_lexer": "ipython3",
   "version": "3.9.9"
  }
 },
 "nbformat": 4,
 "nbformat_minor": 5
}
